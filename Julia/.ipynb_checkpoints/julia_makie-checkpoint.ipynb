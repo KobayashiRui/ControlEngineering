{
 "cells": [
  {
   "cell_type": "markdown",
   "metadata": {},
   "source": [
    "# Juliaを使用したグラフのプロット(Makie編)\n",
    "[Makieの公式サイトドキュメント URL](http://makie.juliaplots.org/stable/index.html)  \n",
    "[公式のtutorial URL](http://makie.juliaplots.org/stable/basic-tutorial.html)"
   ]
  },
  {
   "cell_type": "markdown",
   "metadata": {},
   "source": [
    "## インストール方法\n",
    "juliaのPkg REPLにて`add Makie`にてインストール  \n",
    "`using Makie`にて使用\n",
    "\n",
    "Makie.jは、AbstractPtting.jlとGLMakie.jlバックエンドをバンドルしている  \n",
    "CairoMakieのような別のバックエンドを使用する場合は、AbstractPlatingも追加してインポートする\n",
    "\n",
    "`add AbstractPlotting, CairoMakie`にてインストール  \n",
    "↓下記のようにセットアップして別のバックエンドをセットする\n",
    "```julia\n",
    "using AbstractPlotting\n",
    "using CairoMakie\n",
    "\n",
    "CairoMakie.activate!() # only if a different backend is active already\n",
    "```\n",
    "\n",
    "初回起動時にはコンパイルが入るため少し時間がかかる\n",
    "\n",
    "Jupyterで表示するなら`GLMakie`ではなく`WGLMakie`を使用する"
   ]
  },
  {
   "cell_type": "code",
   "execution_count": 4,
   "metadata": {},
   "outputs": [
    {
     "name": "stdout",
     "output_type": "stream",
     "text": [
      "WGLMakie.WGLBackend()"
     ]
    },
    {
     "data": {
      "text/plain": [
       "false"
      ]
     },
     "execution_count": 4,
     "metadata": {},
     "output_type": "execute_result"
    }
   ],
   "source": [
    "using WGLMakie\n",
    "using AbstractPlotting\n",
    "#バックエンドが何か\n",
    "print(AbstractPlotting.current_backend[])\n",
    "AbstractPlotting.inline!(false)"
   ]
  },
  {
   "cell_type": "markdown",
   "metadata": {},
   "source": [
    "## シーンオブジェクトを作成\n",
    "シーンオブジェクトには、線、散布図、ポリゴンなどのプロットオブジェクトが含まれている  \n",
    "Makieフィギュアの基礎\n",
    "\n",
    "シーンは、デフォルトではグローバルスコープでのみ表示される  \n",
    "関数やモジュールなどのローカルスコープで定義されているときにシーンを表示するには、`display(scene)`を呼び出すと、使用可能な最良のディスプレイに自動的に表示されます。"
   ]
  },
  {
   "cell_type": "code",
   "execution_count": 3,
   "metadata": {},
   "outputs": [
    {
     "data": {
      "text/html": [
       "<iframe src=\"http://127.0.0.1:8081/a7e9d2c4-3709-4a7c-93bd-0476acb1239a\" id=\"a7e9d2c4-3709-4a7c-93bd-0476acb1239a\" style=\"position: relative; display: block; width: 100%; height: 100%; padding: 0; overflow: hidden; border: none\" scrolling=\"no\">\n",
       "</iframe>\n",
       "\n"
      ]
     },
     "metadata": {},
     "output_type": "display_data"
    }
   ],
   "source": [
    "x = rand(10)\n",
    "y = rand(10)\n",
    "colors = rand(10)\n",
    "scene = scatter(x, y, color = colors)\n",
    "display(scene)"
   ]
  },
  {
   "cell_type": "code",
   "execution_count": 15,
   "metadata": {},
   "outputs": [
    {
     "data": {},
     "execution_count": 15,
     "metadata": {},
     "output_type": "execute_result"
    }
   ],
   "source": [
    "points = [Point2f0(cos(t), sin(t)) for t in LinRange(0, 2pi, 20)]\n",
    "colors = 1:20\n",
    "scatter!(scene, points, color = colors, markersize = 15)"
   ]
  },
  {
   "cell_type": "code",
   "execution_count": null,
   "metadata": {},
   "outputs": [],
   "source": []
  }
 ],
 "metadata": {
  "kernelspec": {
   "display_name": "Julia 1.5.0",
   "language": "julia",
   "name": "julia-1.5"
  },
  "language_info": {
   "file_extension": ".jl",
   "mimetype": "application/julia",
   "name": "julia",
   "version": "1.5.0"
  }
 },
 "nbformat": 4,
 "nbformat_minor": 4
}
