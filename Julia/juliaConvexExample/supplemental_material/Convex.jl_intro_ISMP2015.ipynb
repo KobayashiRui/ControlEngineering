{
 "cells": [
  {
   "cell_type": "markdown",
   "source": [
    "# Convex Optimization in Julia\n",
    "\n",
    "## Madeleine Udell | ISMP 2015"
   ],
   "metadata": {}
  },
  {
   "cell_type": "markdown",
   "source": [
    "## Convex.jl team\n",
    "\n",
    "* [Convex.jl](https://github.com/cvxgrp/Convex.jl): Madeleine Udell, Karanveer Mohan, David Zeng, Jenny Hong"
   ],
   "metadata": {}
  },
  {
   "cell_type": "markdown",
   "source": [
    "## Collaborators/Inspiration:\n",
    "\n",
    "* [CVX](http://www.cvxr.com): Michael Grant, Stephen Boyd\n",
    "* [CVXPY](https://github.com/cvxgrp/cvxpy): Steven Diamond, Eric Chu, Stephen Boyd\n",
    "* [JuliaOpt](https://github.com/JuliaOpt): Miles Lubin, Iain Dunning, Joey Huchette"
   ],
   "metadata": {}
  },
  {
   "outputs": [],
   "cell_type": "code",
   "source": [
    "# initial package installation"
   ],
   "metadata": {},
   "execution_count": null
  },
  {
   "outputs": [],
   "cell_type": "code",
   "source": [
    "# Make the Convex.jl module available\n",
    "using Convex, SparseArrays, LinearAlgebra\n",
    "using SCS # first order splitting conic solver [O'Donoghue et al., 2014]\n",
    "\n",
    "# Generate random problem data\n",
    "m = 50;  n = 100\n",
    "A = randn(m, n)\n",
    "x♮ = sprand(n, 1, .5) # true (sparse nonnegative) parameter vector\n",
    "noise = .1*randn(m)    # gaussian noise\n",
    "b = A*x♮ + noise      # noisy linear observations\n",
    "\n",
    "# Create a (column vector) variable of size n.\n",
    "x = Variable(n)\n",
    "\n",
    "# nonnegative elastic net with regularization\n",
    "λ = 1\n",
    "μ = 1\n",
    "problem = minimize(square(norm(A * x - b)) + λ*square(norm(x)) + μ*norm(x, 1),\n",
    "                   x >= 0)\n",
    "\n",
    "# Solve the problem by calling solve!\n",
    "solve!(problem, () -> SCS.Optimizer(verbose=0))\n",
    "\n",
    "println(\"problem status is \", problem.status) # :Optimal, :Infeasible, :Unbounded etc.\n",
    "println(\"optimal value is \", problem.optval)"
   ],
   "metadata": {},
   "execution_count": null
  },
  {
   "outputs": [],
   "cell_type": "code",
   "source": [
    "using Interact, Plots\n",
    "# Interact.WebIO.install_jupyter_nbextension() # might be helpful if you see `WebIO` warnings in Jupyter\n",
    "@manipulate throttle=.1 for λ=0:.1:5, μ=0:.1:5\n",
    "    global A\n",
    "    problem = minimize(square(norm(A * x - b)) + λ*square(norm(x)) + μ*norm(x, 1),\n",
    "                   x >= 0)\n",
    "    solve!(problem, () -> SCS.Optimizer(verbose=0))\n",
    "    histogram(evaluate(x), xlims=(0,3.5), label=\"x\")\n",
    "end"
   ],
   "metadata": {},
   "execution_count": null
  },
  {
   "cell_type": "markdown",
   "source": [
    "# Quick convex prototyping"
   ],
   "metadata": {}
  },
  {
   "cell_type": "markdown",
   "source": [
    "## Variables"
   ],
   "metadata": {}
  },
  {
   "outputs": [],
   "cell_type": "code",
   "source": [
    "# Scalar variable\n",
    "x = Variable()"
   ],
   "metadata": {},
   "execution_count": null
  },
  {
   "outputs": [],
   "cell_type": "code",
   "source": [
    "# (Column) vector variable\n",
    "y = Variable(4)"
   ],
   "metadata": {},
   "execution_count": null
  },
  {
   "outputs": [],
   "cell_type": "code",
   "source": [
    "# Matrix variable\n",
    "Z = Variable(4, 4)"
   ],
   "metadata": {},
   "execution_count": null
  },
  {
   "cell_type": "markdown",
   "source": [
    "# Expressions"
   ],
   "metadata": {}
  },
  {
   "cell_type": "markdown",
   "source": [
    "Convex.jl allows you to use a [wide variety of functions](http://convexjl.readthedocs.org/en/latest/operations.html) on variables and on expressions to form new expressions."
   ],
   "metadata": {}
  },
  {
   "outputs": [],
   "cell_type": "code",
   "source": [
    "x + 2x"
   ],
   "metadata": {},
   "execution_count": null
  },
  {
   "outputs": [],
   "cell_type": "code",
   "source": [
    "e = y[1] + logdet(Z) + sqrt(x) + minimum(y)"
   ],
   "metadata": {},
   "execution_count": null
  },
  {
   "cell_type": "markdown",
   "source": [
    "### Examine the expression tree"
   ],
   "metadata": {}
  },
  {
   "outputs": [],
   "cell_type": "code",
   "source": [
    "e.children[2]"
   ],
   "metadata": {},
   "execution_count": null
  },
  {
   "cell_type": "markdown",
   "source": [
    "# Constraints\n",
    "\n",
    "A constraint is convex if convex combinations of feasible points are also feasible. Equivalently, feasible sets are convex sets.\n",
    "\n",
    "In other words, convex constraints are of the form\n",
    "\n",
    "* `convexExpr <= 0`\n",
    "* `concaveExpr >= 0`\n",
    "* `affineExpr == 0`"
   ],
   "metadata": {}
  },
  {
   "outputs": [],
   "cell_type": "code",
   "source": [
    "x <= 0"
   ],
   "metadata": {},
   "execution_count": null
  },
  {
   "outputs": [],
   "cell_type": "code",
   "source": [
    "square(x) <= sum(y)"
   ],
   "metadata": {},
   "execution_count": null
  },
  {
   "outputs": [],
   "cell_type": "code",
   "source": [
    "M = Z\n",
    "for i = 1:length(y)\n",
    "    global M += rand(size(Z)...)*y[i]\n",
    "end\n",
    "M ⪰ 0"
   ],
   "metadata": {},
   "execution_count": null
  },
  {
   "cell_type": "markdown",
   "source": [
    "# Problems"
   ],
   "metadata": {}
  },
  {
   "outputs": [],
   "cell_type": "code",
   "source": [
    "x = Variable()\n",
    "y = Variable(4)\n",
    "objective = 2*x + 1 - sqrt(sum(y))\n",
    "constraint = x >= maximum(y)\n",
    "p = minimize(objective, constraint)"
   ],
   "metadata": {},
   "execution_count": null
  },
  {
   "outputs": [],
   "cell_type": "code",
   "source": [
    "# solve the problem\n",
    "solve!(p, () -> SCS.Optimizer(verbose=0))\n",
    "p.status"
   ],
   "metadata": {},
   "execution_count": null
  },
  {
   "outputs": [],
   "cell_type": "code",
   "source": [
    "evaluate(x)"
   ],
   "metadata": {},
   "execution_count": null
  },
  {
   "outputs": [],
   "cell_type": "code",
   "source": [
    "# can evaluate expressions directly\n",
    "evaluate(objective)"
   ],
   "metadata": {},
   "execution_count": null
  },
  {
   "cell_type": "markdown",
   "source": [
    "## Pass to solver\n",
    "\n",
    "call a `MathProgBase` solver suited for your problem class\n",
    "\n",
    "* see the [list of Convex.jl operations](http://convexjl.readthedocs.org/en/latest/operations.html) to find which cones you're using\n",
    "* see the [list of solvers](http://www.juliaopt.org/) for an up-to-date list of solvers and which cones they support"
   ],
   "metadata": {}
  },
  {
   "cell_type": "markdown",
   "source": [
    "to solve problem using a different solver, just import the solver package and pass the solver to the `solve!` method: eg\n",
    "\n",
    "    using Mosek\n",
    "    solve!(p, Mosek.Optimizer)"
   ],
   "metadata": {}
  },
  {
   "cell_type": "markdown",
   "source": [
    "## Warmstart"
   ],
   "metadata": {}
  },
  {
   "outputs": [],
   "cell_type": "code",
   "source": [
    "# Generate random problem data\n",
    "m = 50;  n = 100\n",
    "A = randn(m, n)\n",
    "x♮ = sprand(n, 1, .5) # true (sparse nonnegative) parameter vector\n",
    "noise = .1*randn(m)    # gaussian noise\n",
    "b = A*x♮ + noise      # noisy linear observations\n",
    "\n",
    "# Create a (column vector) variable of size n.\n",
    "x = Variable(n)\n",
    "\n",
    "# nonnegative elastic net with regularization\n",
    "λ = 1\n",
    "μ = 1\n",
    "problem = minimize(square(norm(A * x - b)) + λ*square(norm(x)) + μ*norm(x, 1),\n",
    "                   x >= 0)\n",
    "@time solve!(problem, () -> SCS.Optimizer(verbose=0))\n",
    "λ = 1.5\n",
    "@time solve!(problem, () -> SCS.Optimizer(verbose=0), warmstart = true)"
   ],
   "metadata": {},
   "execution_count": null
  },
  {
   "cell_type": "markdown",
   "source": [
    "# DCP examples"
   ],
   "metadata": {}
  },
  {
   "outputs": [],
   "cell_type": "code",
   "source": [
    "# affine\n",
    "x = Variable(4)\n",
    "y = Variable(2)\n",
    "sum(x) + y[2]"
   ],
   "metadata": {},
   "execution_count": null
  },
  {
   "outputs": [],
   "cell_type": "code",
   "source": [
    "2*maximum(x) + 4*sum(y) - sqrt(y[1] + x[1]) - 7 * minimum(x[2:4])"
   ],
   "metadata": {},
   "execution_count": null
  },
  {
   "outputs": [],
   "cell_type": "code",
   "source": [
    "# not dcp compliant\n",
    "log(x) + square(x)"
   ],
   "metadata": {},
   "execution_count": null
  },
  {
   "outputs": [],
   "cell_type": "code",
   "source": [
    "# $f$ is convex increasing and $g$ is convex\n",
    "square(pos(x))"
   ],
   "metadata": {},
   "execution_count": null
  },
  {
   "outputs": [],
   "cell_type": "code",
   "source": [
    "# $f$ is convex decreasing and $g$ is concave\n",
    "invpos(sqrt(x))"
   ],
   "metadata": {},
   "execution_count": null
  },
  {
   "outputs": [],
   "cell_type": "code",
   "source": [
    "# $f$ is concave increasing and $g$ is concave\n",
    "sqrt(sqrt(x))"
   ],
   "metadata": {},
   "execution_count": null
  },
  {
   "cell_type": "markdown",
   "source": [
    "---\n",
    "\n",
    "*This notebook was generated using [Literate.jl](https://github.com/fredrikekre/Literate.jl).*"
   ],
   "metadata": {}
  }
 ],
 "nbformat_minor": 3,
 "metadata": {
  "language_info": {
   "file_extension": ".jl",
   "mimetype": "application/julia",
   "name": "julia",
   "version": "1.0.5"
  },
  "kernelspec": {
   "name": "julia-1.0",
   "display_name": "Julia 1.0.5",
   "language": "julia"
  }
 },
 "nbformat": 4
}
