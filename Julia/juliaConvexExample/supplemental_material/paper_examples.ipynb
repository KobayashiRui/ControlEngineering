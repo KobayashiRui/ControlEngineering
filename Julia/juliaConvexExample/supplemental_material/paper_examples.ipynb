{
 "cells": [
  {
   "cell_type": "markdown",
   "source": [
    "# Paper examples"
   ],
   "metadata": {}
  },
  {
   "outputs": [],
   "cell_type": "code",
   "source": [
    "using Convex, ECOS"
   ],
   "metadata": {},
   "execution_count": null
  },
  {
   "cell_type": "markdown",
   "source": [
    "Summation."
   ],
   "metadata": {}
  },
  {
   "outputs": [],
   "cell_type": "code",
   "source": [
    "println(\"Summation example\")\n",
    "x = Variable();\n",
    "e = 0;\n",
    "@time begin\n",
    "  for i = 1:1000\n",
    "    global e\n",
    "    e += x;\n",
    "  end\n",
    "  p = minimize(e, x>=1);\n",
    "end\n",
    "@time solve!(p, () -> ECOS.Optimizer(verbose=0))"
   ],
   "metadata": {},
   "execution_count": null
  },
  {
   "cell_type": "markdown",
   "source": [
    "Indexing."
   ],
   "metadata": {}
  },
  {
   "outputs": [],
   "cell_type": "code",
   "source": [
    "println(\"Indexing example\")\n",
    "x = Variable(1000, 1);\n",
    "e = 0;\n",
    "@time begin\n",
    "  for i = 1:1000\n",
    "    global e\n",
    "    e += x[i];\n",
    "  end\n",
    "  p = minimize(e, x >= ones(1000, 1));\n",
    "end\n",
    "@time solve!(p, () -> ECOS.Optimizer(verbose=0))"
   ],
   "metadata": {},
   "execution_count": null
  },
  {
   "cell_type": "markdown",
   "source": [
    "Matrix constraints."
   ],
   "metadata": {}
  },
  {
   "outputs": [],
   "cell_type": "code",
   "source": [
    "println(\"Matrix constraint example\")\n",
    "n, m, p = 100, 100, 100\n",
    "X = Variable(m, n);\n",
    "A = randn(p, m);\n",
    "b = randn(p, n);\n",
    "@time begin\n",
    "  p = minimize(norm(vec(X)), A * X == b);\n",
    "end\n",
    "@time solve!(p, () -> ECOS.Optimizer(verbose=0))"
   ],
   "metadata": {},
   "execution_count": null
  },
  {
   "cell_type": "markdown",
   "source": [
    "Transpose."
   ],
   "metadata": {}
  },
  {
   "outputs": [],
   "cell_type": "code",
   "source": [
    "println(\"Transpose example\")\n",
    "X = Variable(5, 5);\n",
    "A = randn(5, 5);\n",
    "@time begin\n",
    "  p = minimize(norm2(X - A), X' == X);\n",
    "end\n",
    "@time solve!(p, () -> ECOS.Optimizer(verbose=0))\n",
    "\n",
    "n = 3\n",
    "A = randn(n, n);\n",
    "#@time begin\n",
    "  X = Variable(n, n);\n",
    "  p = minimize(norm(vec(X' - A)), X[1,1] == 1);\n",
    "  solve!(p, () -> ECOS.Optimizer(verbose=0))\n",
    "#end"
   ],
   "metadata": {},
   "execution_count": null
  },
  {
   "cell_type": "markdown",
   "source": [
    "---\n",
    "\n",
    "*This notebook was generated using [Literate.jl](https://github.com/fredrikekre/Literate.jl).*"
   ],
   "metadata": {}
  }
 ],
 "nbformat_minor": 3,
 "metadata": {
  "language_info": {
   "file_extension": ".jl",
   "mimetype": "application/julia",
   "name": "julia",
   "version": "1.0.5"
  },
  "kernelspec": {
   "name": "julia-1.0",
   "display_name": "Julia 1.0.5",
   "language": "julia"
  }
 },
 "nbformat": 4
}
