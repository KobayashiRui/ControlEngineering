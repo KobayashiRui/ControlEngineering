{
 "cells": [
  {
   "cell_type": "markdown",
   "source": [
    "# Section Allocation\n",
    "Suppose you have $n$ students in a class who need to be assigned to $m$\n",
    "discussion sections. Each student needs to be assigned to exactly one section.\n",
    "Each discussion section should have between 6 and 10 students. Suppose an\n",
    "$n \\times m$ preference matrix $P$ is given, where $P_{ij}$ gives student\n",
    "$i$'s ranking for section $j$ (1 would mean it is the student's top choice,\n",
    "10,000 or a large number would mean the student can not attend that section).\n",
    "\n",
    "The goal will be to get an allocation matrix $X$, where $X_{ij} = 1$ if\n",
    "student $i$ is assigned to section $j$ and $0$ otherwise."
   ],
   "metadata": {}
  },
  {
   "outputs": [],
   "cell_type": "code",
   "source": [
    "using Convex, GLPK\n",
    "aux(str) = joinpath(@__DIR__, \"aux_files\", str) # path to auxiliary files"
   ],
   "metadata": {},
   "execution_count": null
  },
  {
   "cell_type": "markdown",
   "source": [
    "Load our preference matrix, `P`"
   ],
   "metadata": {}
  },
  {
   "outputs": [],
   "cell_type": "code",
   "source": [
    "include(aux(\"data.jl\"))\n",
    "\n",
    "X = Variable(size(P), :Bin)"
   ],
   "metadata": {},
   "execution_count": null
  },
  {
   "cell_type": "markdown",
   "source": [
    "We want every student to be assigned to exactly one section. So, every row\n",
    "must have exactly one non-zero entry. In other words, the sum of all the\n",
    "columns for every row is 1. We also want each section to have between 6 and 10\n",
    "students, so the sum of all the rows for every column should be between these."
   ],
   "metadata": {}
  },
  {
   "outputs": [],
   "cell_type": "code",
   "source": [
    "constraints = [sum(X, dims=2) == 1, sum(X, dims=1) <= 10, sum(X, dims=1) >= 6]"
   ],
   "metadata": {},
   "execution_count": null
  },
  {
   "cell_type": "markdown",
   "source": [
    "Our objective is simple `sum(X .* P)`, which can be more efficiently\n",
    "represented as `vec(X)' * vec(P)`. Since each entry of `X` is either 0 or 1,\n",
    "this is basically summing up the rankings of students that were assigned to them.\n",
    "If all students got their first choice, this value will be the number of\n",
    "students since the ranking of the first choice is 1."
   ],
   "metadata": {}
  },
  {
   "outputs": [],
   "cell_type": "code",
   "source": [
    "p = minimize(vec(X)' * vec(P), constraints)\n",
    "\n",
    "solve!(p, GLPK.Optimizer)\n",
    "p.optval"
   ],
   "metadata": {},
   "execution_count": null
  },
  {
   "cell_type": "markdown",
   "source": [
    "---\n",
    "\n",
    "*This notebook was generated using [Literate.jl](https://github.com/fredrikekre/Literate.jl).*"
   ],
   "metadata": {}
  }
 ],
 "nbformat_minor": 3,
 "metadata": {
  "language_info": {
   "file_extension": ".jl",
   "mimetype": "application/julia",
   "name": "julia",
   "version": "1.0.5"
  },
  "kernelspec": {
   "name": "julia-1.0",
   "display_name": "Julia 1.0.5",
   "language": "julia"
  }
 },
 "nbformat": 4
}
