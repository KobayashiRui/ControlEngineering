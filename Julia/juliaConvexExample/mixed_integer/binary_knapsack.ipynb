{
 "cells": [
  {
   "cell_type": "markdown",
   "source": [
    "# Binary (or 0-1) knapsack problem\n",
    "Given a knapsack of some capacity $C$ and $n$ objects with object $i$ having weight $w_i$ and profit $p_i$, the goal is to choose some subset of the objects that can fit in the knapsack (i.e. the sum of their weights is no more than $C$) while maximizing profit.\n",
    "\n",
    "This can be formulated as a mixed-integer program as:\n",
    "\n",
    "$$\n",
    "\\begin{array}{ll}\n",
    "  \\text{maximize} & x' p \\\\\n",
    "    \\text{subject to} & x \\in \\{0, 1\\} \\\\\n",
    "  & w' x \\leq C \\\\\n",
    "\\end{array}\n",
    "$$\n",
    "\n",
    "where $x$ is a vector is size $n$ where $x_i$ is one if we chose to keep the object in the knapsack, 0 otherwise."
   ],
   "metadata": {}
  },
  {
   "outputs": [],
   "cell_type": "code",
   "source": [
    "# Data taken from http://people.sc.fsu.edu/~jburkardt/datasets/knapsack_01/knapsack_01.html\n",
    "w = [23; 31; 29; 44; 53; 38; 63; 85; 89; 82]\n",
    "C = 165\n",
    "p =  [92; 57; 49; 68; 60; 43; 67; 84; 87; 72];\n",
    "n = length(w)"
   ],
   "metadata": {},
   "execution_count": null
  },
  {
   "outputs": [],
   "cell_type": "code",
   "source": [
    "using Convex, GLPK\n",
    "x = Variable(n, :Bin)\n",
    "problem = maximize(dot(p, x), dot(w, x) <= C)\n",
    "solve!(problem, GLPK.Optimizer)\n",
    "evaluate(x)"
   ],
   "metadata": {},
   "execution_count": null
  },
  {
   "cell_type": "markdown",
   "source": [
    "---\n",
    "\n",
    "*This notebook was generated using [Literate.jl](https://github.com/fredrikekre/Literate.jl).*"
   ],
   "metadata": {}
  }
 ],
 "nbformat_minor": 3,
 "metadata": {
  "language_info": {
   "file_extension": ".jl",
   "mimetype": "application/julia",
   "name": "julia",
   "version": "1.0.5"
  },
  "kernelspec": {
   "name": "julia-1.0",
   "display_name": "Julia 1.0.5",
   "language": "julia"
  }
 },
 "nbformat": 4
}
