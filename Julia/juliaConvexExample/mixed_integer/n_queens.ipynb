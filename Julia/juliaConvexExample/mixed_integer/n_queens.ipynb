{
 "cells": [
  {
   "cell_type": "markdown",
   "source": [
    "# N queens"
   ],
   "metadata": {}
  },
  {
   "outputs": [],
   "cell_type": "code",
   "source": [
    "using Convex, GLPK, LinearAlgebra, SparseArrays, Test\n",
    "aux(str) = joinpath(@__DIR__, \"aux_files\", str) # path to auxiliary files\n",
    "include(aux(\"antidiag.jl\"))\n",
    "\n",
    "n = 8"
   ],
   "metadata": {},
   "execution_count": null
  },
  {
   "cell_type": "markdown",
   "source": [
    "We encode the locations of the queens with a matrix of binary random variables."
   ],
   "metadata": {}
  },
  {
   "outputs": [],
   "cell_type": "code",
   "source": [
    "x = Variable((n, n), :Bin)"
   ],
   "metadata": {},
   "execution_count": null
  },
  {
   "cell_type": "markdown",
   "source": [
    "Now we impose the constraints: at most one queen on any anti-diagonal, at most one queen on any diagonal, and we must have exactly one queen per row and per column."
   ],
   "metadata": {}
  },
  {
   "outputs": [],
   "cell_type": "code",
   "source": [
    "# At most one queen on any anti-diagonal\n",
    "constr = Constraint[sum(antidiag(x, k)) <= 1 for k = -n+2:n-2]\n",
    "# At most one queen on any diagonal\n",
    "constr += Constraint[sum(diag(x, k)) <= 1 for k = -n+2:n-2]\n",
    "# Exactly one queen per row and one queen per column\n",
    "constr += Constraint[sum(x, dims=1) == 1, sum(x, dims=2) == 1]\n",
    "p = satisfy(constr)\n",
    "solve!(p, GLPK.Optimizer)"
   ],
   "metadata": {},
   "execution_count": null
  },
  {
   "cell_type": "markdown",
   "source": [
    "Let us test the results:"
   ],
   "metadata": {}
  },
  {
   "outputs": [],
   "cell_type": "code",
   "source": [
    "for k = -n+2:n-2\n",
    "\t@test evaluate(sum(antidiag(x, k))) <= 1\n",
    "\t@test evaluate(sum(diag(x, k))) <= 1\n",
    "end\n",
    "@test all(evaluate(sum(x, dims=1)) .≈ 1)\n",
    "@test all(evaluate(sum(x, dims=2)) .≈ 1)"
   ],
   "metadata": {},
   "execution_count": null
  },
  {
   "cell_type": "markdown",
   "source": [
    "---\n",
    "\n",
    "*This notebook was generated using [Literate.jl](https://github.com/fredrikekre/Literate.jl).*"
   ],
   "metadata": {}
  }
 ],
 "nbformat_minor": 3,
 "metadata": {
  "language_info": {
   "file_extension": ".jl",
   "mimetype": "application/julia",
   "name": "julia",
   "version": "1.0.5"
  },
  "kernelspec": {
   "name": "julia-1.0",
   "display_name": "Julia 1.0.5",
   "language": "julia"
  }
 },
 "nbformat": 4
}
