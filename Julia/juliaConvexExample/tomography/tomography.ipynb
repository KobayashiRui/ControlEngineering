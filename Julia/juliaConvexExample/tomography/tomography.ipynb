{
 "cells": [
  {
   "cell_type": "markdown",
   "source": [
    "# Tomography"
   ],
   "metadata": {}
  },
  {
   "cell_type": "markdown",
   "source": [
    "Tomography is the process of reconstructing a density distribution from given\n",
    "integrals over sections of the distribution. In our example, we will\n",
    "work with tomography on black and white images.\n",
    "Suppose $x$ be the vector of $n$ pixel densities, with $x_j$\n",
    "denoting how white pixel $j$ is.\n",
    "Let $y$ be the vector of $m$ line integrals over the image, with $y_i$\n",
    "denoting the integral for line $i$.\n",
    "We can define a matrix $A$ to describe the geometry of the lines. Entry\n",
    "$A_{ij}$ describes how much of pixel $j$ is intersected by line $i$.\n",
    "Assuming our measurements of the line integrals are perfect, we have the relationship that\n",
    "\n",
    "$$\n",
    "  y = Ax\n",
    "$$\n",
    "\n",
    "However, anytime we have measurements, there are usually small errors that occur.\n",
    "Therefore it makes sense to try to minimize\n",
    "\n",
    "$$\n",
    " \\|y - Ax\\|_2^2.\n",
    "$$\n",
    "\n",
    "This is simply an unconstrained least squares problem; something we can readily solve!"
   ],
   "metadata": {}
  },
  {
   "outputs": [],
   "cell_type": "code",
   "source": [
    "using Convex, ECOS, DelimitedFiles, SparseArrays\n",
    "aux(str) = joinpath(@__DIR__, \"aux_files\", str) # path to auxiliary files\n",
    "line_mat_x = readdlm(aux(\"tux_sparse_x.txt\"))\n",
    "summary(line_mat_x)\n",
    "\n",
    "line_mat_y = readdlm(aux(\"tux_sparse_y.txt\"))\n",
    "summary(line_mat_y)\n",
    "\n",
    "line_mat_val = readdlm(aux(\"tux_sparse_val.txt\"))\n",
    "summary(line_mat_val)\n",
    "\n",
    "line_vals = readdlm(aux(\"tux_sparse_lines.txt\"))\n",
    "summary(line_vals)"
   ],
   "metadata": {},
   "execution_count": null
  },
  {
   "cell_type": "markdown",
   "source": [
    "Form the sparse matrix from the data\n",
    "Image is 50 x 50"
   ],
   "metadata": {}
  },
  {
   "outputs": [],
   "cell_type": "code",
   "source": [
    "img_size = 50"
   ],
   "metadata": {},
   "execution_count": null
  },
  {
   "cell_type": "markdown",
   "source": [
    "The number of pixels in the image"
   ],
   "metadata": {}
  },
  {
   "outputs": [],
   "cell_type": "code",
   "source": [
    "num_pixels = img_size * img_size\n",
    "\n",
    "line_mat = spzeros(length(line_vals), num_pixels)\n",
    "\n",
    "num_vals = length(line_mat_val)\n",
    "\n",
    "for i in 1:num_vals\n",
    "  x = Int(line_mat_x[i])\n",
    "  y = Int(line_mat_y[i])\n",
    "  line_mat[x + 1, y + 1] = line_mat_val[i]\n",
    "end\n",
    "\n",
    "pixel_colors = Variable(num_pixels)\n",
    "# line_mat * pixel_colors should be close to the line_integral_values\n",
    "# to reflect that, we minimize a norm\n",
    "objective = sumsquares(line_mat * pixel_colors - line_vals)\n",
    "problem = minimize(objective)\n",
    "solve!(problem, () -> ECOS.Optimizer(verbose=0))\n",
    "\n",
    "rows = zeros(img_size*img_size)\n",
    "cols = zeros(img_size*img_size)\n",
    "for i = 1:img_size\n",
    "  for j = 1:img_size\n",
    "    rows[(i-1)*img_size + j] = i\n",
    "    cols[(i-1)*img_size + j] = img_size + 1 - j\n",
    "  end\n",
    "end"
   ],
   "metadata": {},
   "execution_count": null
  },
  {
   "cell_type": "markdown",
   "source": [
    "Plot the image using the pixel values obtained!"
   ],
   "metadata": {}
  },
  {
   "outputs": [],
   "cell_type": "code",
   "source": [
    "using Plots\n",
    "image = reshape(evaluate(pixel_colors), img_size, img_size)\n",
    "heatmap(image, yflip=true, aspect_ratio=1, colorbar=nothing, color=:grays)"
   ],
   "metadata": {},
   "execution_count": null
  },
  {
   "cell_type": "markdown",
   "source": [
    "---\n",
    "\n",
    "*This notebook was generated using [Literate.jl](https://github.com/fredrikekre/Literate.jl).*"
   ],
   "metadata": {}
  }
 ],
 "nbformat_minor": 3,
 "metadata": {
  "language_info": {
   "file_extension": ".jl",
   "mimetype": "application/julia",
   "name": "julia",
   "version": "1.0.5"
  },
  "kernelspec": {
   "name": "julia-1.0",
   "display_name": "Julia 1.0.5",
   "language": "julia"
  }
 },
 "nbformat": 4
}
