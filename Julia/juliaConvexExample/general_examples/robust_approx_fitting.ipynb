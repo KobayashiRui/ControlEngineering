{
 "cells": [
  {
   "cell_type": "markdown",
   "source": [
    "# Robust approximate fitting\n",
    "Section 6.4.2\n",
    "Boyd & Vandenberghe \"Convex Optimization\"\n",
    "Original by Lieven Vandenberghe\n",
    "Adapted for Convex by Joelle Skaf - 10/03/05\n",
    "\n",
    "Adapted for Convex.jl by Karanveer Mohan and David Zeng - 26/05/14\n",
    "Original cvx code and plots here:\n",
    "<http://web.cvxr.com/cvx/examples/cvxbook/Ch06_approx_fitting/html/fig6_15.html>\n",
    "\n",
    "Consider the least-squares problem:\n",
    "      minimize $\\|(A + tB)x - b\\|_2$\n",
    "where $t$ is an uncertain parameter in [-1,1]\n",
    "Three approximate solutions are found:\n",
    "\n",
    "  1. nominal optimal (i.e. letting t=0)\n",
    "  2. stochastic robust approximation:\n",
    "          minimize $\\mathbb{E}\\|(A+tB)x - b\\|_2$\n",
    "     assuming $u$ is uniformly distributed on [-1,1].\n",
    "     (reduces to minimizing $\\mathbb{E} \\|(A+tB)x-b\\|^2 = \\|A*x-b\\|^2  + x^TPx$\n",
    "       where $P = \\mathbb{E}(t^2) B^TB = (1/3) B^TB$ )\n",
    "  3. worst-case robust approximation:\n",
    "          minimize $\\mathrm{sup}_{-1\\leq u\\leq 1} \\|(A+tB)x - b\\|_2$\n",
    "     (reduces to minimizing $\\max\\{\\|(A-B)x - b\\|_2, \\|(A+B)x - b\\|_2\\}$ )."
   ],
   "metadata": {}
  },
  {
   "outputs": [],
   "cell_type": "code",
   "source": [
    "using Convex, LinearAlgebra, SCS\n",
    "if VERSION < v\"1.2.0-DEV.0\"\n",
    "     LinearAlgebra.diagm(v::AbstractVector) = diagm(0 => v)\n",
    "end"
   ],
   "metadata": {},
   "execution_count": null
  },
  {
   "cell_type": "markdown",
   "source": [
    "Input Data"
   ],
   "metadata": {}
  },
  {
   "outputs": [],
   "cell_type": "code",
   "source": [
    "m = 20;\n",
    "n = 10;\n",
    "A = randn(m,n);\n",
    "(U,S,V) = svd(A);\n",
    "S = diagm(exp10.(range(-1, stop=1, length=n)));\n",
    "A = U[:, 1:n] * S * V';\n",
    "\n",
    "B = randn(m, n);\n",
    "B = B / norm(B);\n",
    "\n",
    "b = randn(m, 1);\n",
    "x = Variable(n)"
   ],
   "metadata": {},
   "execution_count": null
  },
  {
   "cell_type": "markdown",
   "source": [
    "Case 1: Nominal optimal solution"
   ],
   "metadata": {}
  },
  {
   "outputs": [],
   "cell_type": "code",
   "source": [
    "p = minimize(norm(A * x - b, 2))\n",
    "solve!(p, () -> SCS.Optimizer(verbose=0))\n",
    "x_nom = evaluate(x)"
   ],
   "metadata": {},
   "execution_count": null
  },
  {
   "cell_type": "markdown",
   "source": [
    "Case 2: Stochastic robust approximation"
   ],
   "metadata": {}
  },
  {
   "outputs": [],
   "cell_type": "code",
   "source": [
    "P = 1 / 3 * B' * B;\n",
    "p = minimize(square(pos(norm(A * x - b))) + quadform(x, Symmetric(P)))\n",
    "solve!(p, () -> SCS.Optimizer(verbose=0))\n",
    "x_stoch = evaluate(x)"
   ],
   "metadata": {},
   "execution_count": null
  },
  {
   "cell_type": "markdown",
   "source": [
    "Case 3: Worst-case robust approximation"
   ],
   "metadata": {}
  },
  {
   "outputs": [],
   "cell_type": "code",
   "source": [
    "p = minimize(max(norm((A - B) * x - b), norm((A + B) * x - b)))\n",
    "solve!(p, () -> SCS.Optimizer(verbose=0))\n",
    "x_wc = evaluate(x)"
   ],
   "metadata": {},
   "execution_count": null
  },
  {
   "cell_type": "markdown",
   "source": [
    "Plot residuals:"
   ],
   "metadata": {}
  },
  {
   "outputs": [],
   "cell_type": "code",
   "source": [
    "parvals = range(-2, stop=2, length=100);\n",
    "\n",
    "errvals(x) = [ norm((A + parvals[k] * B) * x - b) for k = eachindex(parvals)]\n",
    "errvals_ls = errvals(x_nom)\n",
    "errvals_stoch = errvals(x_stoch)\n",
    "errvals_wc = errvals(x_wc)\n",
    "\n",
    "\n",
    "using Plots\n",
    "plot(parvals, errvals_ls, label=\"Nominal problem\")\n",
    "plot!(parvals, errvals_stoch, label=\"Stochastic Robust Approximation\")\n",
    "plot!(parvals, errvals_wc, label=\"Worst-Case Robust Approximation\")\n",
    "plot!(title=\"Residual r(u) vs a parameter u for three approximate solutions\", xlabel=\"u\", ylabel=\"r(u) = ||A(u)x-b||_2\")"
   ],
   "metadata": {},
   "execution_count": null
  },
  {
   "cell_type": "markdown",
   "source": [
    "---\n",
    "\n",
    "*This notebook was generated using [Literate.jl](https://github.com/fredrikekre/Literate.jl).*"
   ],
   "metadata": {}
  }
 ],
 "nbformat_minor": 3,
 "metadata": {
  "language_info": {
   "file_extension": ".jl",
   "mimetype": "application/julia",
   "name": "julia",
   "version": "1.0.5"
  },
  "kernelspec": {
   "name": "julia-1.0",
   "display_name": "Julia 1.0.5",
   "language": "julia"
  }
 },
 "nbformat": 4
}
