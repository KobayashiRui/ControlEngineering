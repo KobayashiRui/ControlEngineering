{
 "cells": [
  {
   "cell_type": "markdown",
   "source": [
    "# Control"
   ],
   "metadata": {}
  },
  {
   "cell_type": "markdown",
   "source": [
    "A simple control problem on a system usually involves a variable $x(t)$\n",
    "that denotes the state of the system over time, and a variable $u(t)$ that\n",
    "denotes the input into the system over time. Linear constraints are used to\n",
    "capture the evolution of the system over time:\n",
    "\n",
    "$$\n",
    "x(t) = Ax(t - 1) + Bu(t), \\ \\text{for} \\ t = 1,\\ldots, T,\n",
    "$$\n",
    "\n",
    "where the numerical matrices $A$ and $B$ are called the dynamics and input matrices,\n",
    "respectively.\n",
    "\n",
    "The goal of the control problem is to find a sequence of inputs\n",
    "$u(t)$ that will allow the state $x(t)$ to achieve specified values\n",
    "at certain times. For example, we can specify initial and final states of the system:\n",
    "\n",
    "$$\n",
    "\\begin{aligned}\n",
    "  x(0) &= x_i \\\\\n",
    "  x(T) &= x_f\n",
    "\\end{aligned}\n",
    "$$\n",
    "\n",
    "Additional states between the initial and final states can also be specified. These\n",
    "are known as waypoint constraints. Often, the input and state of the system will\n",
    "have physical meaning, so we often want to find a sequence inputs that also\n",
    "minimizes a least squares objective like the following:\n",
    "\n",
    "$$\n",
    "  \\sum_{t = 0}^T \\|Fx(t)\\|^2_2 + \\sum_{t = 1}^T\\|Gu(t)\\|^2_2,\n",
    "$$\n",
    "\n",
    "where $F$ and $G$ are numerical matrices.\n",
    "\n",
    "We'll now apply the basic format of the control problem to an example of controlling\n",
    "the motion of an object in a fluid over $T$ intervals, each of $h$ seconds.\n",
    "The state of the system at time interval $t$ will be given by the position and the velocity of the\n",
    "object, denoted $p(t)$ and $v(t)$, while the input will be forces\n",
    "applied to the object, denoted by $f(t)$.\n",
    "By the basic laws of physics, the relationship between force, velocity, and position\n",
    "must satisfy:\n",
    "\n",
    "$$\n",
    "  \\begin{aligned}\n",
    "    p(t+1) &= p(t) + h v(t) \\\\\n",
    "    v(t+1) &= v(t) + h a(t)\n",
    "  \\end{aligned}.\n",
    "$$\n",
    "\n",
    "Here, $a(t)$ denotes the acceleration at time $t$, for which we we use\n",
    "$a(t) = f(t) / m + g - d v(t)$,\n",
    "where $m$, $d$, $g$ are constants for the mass of the object, the drag\n",
    "coefficient of the fluid, and the acceleration from gravity, respectively.\n",
    "\n",
    "Additionally, we have our initial/final position/velocity conditions:\n",
    "\n",
    "$$\n",
    "  \\begin{aligned}\n",
    "    p(1) &= p_i\\\\\n",
    "    v(1) &= v_i\\\\\n",
    "    p(T+1) &= p_f\\\\\n",
    "    v(T+1) &= 0\n",
    "  \\end{aligned}\n",
    "$$\n",
    "\n",
    "One reasonable objective to minimize would be\n",
    "\n",
    "$$\n",
    "  \\text{objective} = \\mu \\sum_{t = 1}^{T+1} (v(t))^2 + \\sum_{t = 1}^T (f(t))^2\n",
    "$$\n",
    "\n",
    "We would like to keep both the forces small to perhaps save fuel, and keep\n",
    "the velocities small for safety concerns.\n",
    "Here $\\mu$ serves as a parameter to control which part of the objective we\n",
    "deem more important, keeping the velocity small or keeping the force small.\n",
    "\n",
    "The following code builds and solves our control example:"
   ],
   "metadata": {}
  },
  {
   "outputs": [],
   "cell_type": "code",
   "source": [
    "using Convex, SCS, Plots\n",
    "\n",
    "# Some constraints on our motion\n",
    "# The object should start from the origin, and end at rest\n",
    "initial_velocity = [-20; 100]\n",
    "final_position = [100; 100]\n",
    "\n",
    "T = 100 # The number of timesteps\n",
    "h = 0.1 # The time between time intervals\n",
    "mass = 1 # Mass of object\n",
    "drag = 0.1 # Drag on object\n",
    "g = [0, -9.8] # Gravity on object\n",
    "\n",
    "# Declare the variables we need\n",
    "position = Variable(2, T)\n",
    "velocity = Variable(2, T)\n",
    "force = Variable(2, T - 1)\n",
    "\n",
    "# Create a problem instance\n",
    "mu = 1\n",
    "\n",
    "# Add constraints on our variables\n",
    "constraints = Constraint[ position[:, i + 1] == position[:, i] + h * velocity[:, i] for i in 1 : T - 1]\n",
    "\n",
    "\n",
    "for i in 1 : T - 1\n",
    "  acceleration = force[:, i]/mass + g - drag * velocity[:, i]\n",
    "  push!(constraints, velocity[:, i + 1] == velocity[:, i] + h * acceleration)\n",
    "end\n",
    "\n",
    "# Add position constraints\n",
    "push!(constraints, position[:, 1] == 0)\n",
    "push!(constraints, position[:, T] == final_position)\n",
    "\n",
    "# Add velocity constraints\n",
    "push!(constraints, velocity[:, 1] == initial_velocity)\n",
    "push!(constraints, velocity[:, T] == 0)\n",
    "\n",
    "# Solve the problem\n",
    "problem = minimize(sumsquares(force), constraints)\n",
    "solve!(problem, () -> SCS.Optimizer(verbose=0))"
   ],
   "metadata": {},
   "execution_count": null
  },
  {
   "cell_type": "markdown",
   "source": [
    "We can plot the trajectory taken by the object."
   ],
   "metadata": {}
  },
  {
   "outputs": [],
   "cell_type": "code",
   "source": [
    "pos = evaluate(position)\n",
    "plot([pos[1, 1]], [pos[2, 1]], st=:scatter, label=\"initial point\")\n",
    "plot!([pos[1, T]], [pos[2, T]], st=:scatter, label=\"final point\")\n",
    "plot!(pos[1, :], pos[2, :], label=\"trajectory\")"
   ],
   "metadata": {},
   "execution_count": null
  },
  {
   "cell_type": "markdown",
   "source": [
    "We can also see how the magnitude of the force changes over time."
   ],
   "metadata": {}
  },
  {
   "outputs": [],
   "cell_type": "code",
   "source": [
    "plot(vec(sum(evaluate(force).^2, dims=1)), label=\"force (magnitude)\")"
   ],
   "metadata": {},
   "execution_count": null
  },
  {
   "cell_type": "markdown",
   "source": [
    "---\n",
    "\n",
    "*This notebook was generated using [Literate.jl](https://github.com/fredrikekre/Literate.jl).*"
   ],
   "metadata": {}
  }
 ],
 "nbformat_minor": 3,
 "metadata": {
  "language_info": {
   "file_extension": ".jl",
   "mimetype": "application/julia",
   "name": "julia",
   "version": "1.0.5"
  },
  "kernelspec": {
   "name": "julia-1.0",
   "display_name": "Julia 1.0.5",
   "language": "julia"
  }
 },
 "nbformat": 4
}
