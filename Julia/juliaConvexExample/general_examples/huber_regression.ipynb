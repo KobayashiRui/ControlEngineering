{
 "cells": [
  {
   "cell_type": "markdown",
   "source": [
    "# Huber regression"
   ],
   "metadata": {}
  },
  {
   "cell_type": "markdown",
   "source": [
    "This example can be found here: <https://web.stanford.edu/~boyd/papers/pdf/cvx_applications.pdf>.\n",
    "Here we set `big_example = false` to only generate a small example which takes less time to run."
   ],
   "metadata": {}
  },
  {
   "outputs": [],
   "cell_type": "code",
   "source": [
    "big_example = false\n",
    "if big_example\n",
    "    n = 300\n",
    "    number_tests = 50\n",
    "else\n",
    "    n = 100\n",
    "    number_tests = 20\n",
    "end"
   ],
   "metadata": {},
   "execution_count": null
  },
  {
   "cell_type": "markdown",
   "source": [
    "Generate data for Huber regression."
   ],
   "metadata": {}
  },
  {
   "outputs": [],
   "cell_type": "code",
   "source": [
    "using Random\n",
    "Random.seed!(1);\n",
    "number_samples = round(Int,1.5*n);\n",
    "beta_true = 5*randn(n);\n",
    "X = randn(n, number_samples);\n",
    "Y = zeros(number_samples);\n",
    "v = randn(number_samples);"
   ],
   "metadata": {},
   "execution_count": null
  },
  {
   "outputs": [],
   "cell_type": "code",
   "source": [
    "# Generate data for different values of p.\n",
    "# Solve the resulting problems.\n",
    "using Convex, SCS, Distributions\n",
    "lsq_data = zeros(number_tests);\n",
    "huber_data = zeros(number_tests);\n",
    "prescient_data = zeros(number_tests);\n",
    "p_vals = range(0, stop=0.15, length=number_tests);\n",
    "for i=1:length(p_vals)\n",
    "    p = p_vals[i];\n",
    "    # Generate the sign changes.\n",
    "    factor = 2 * rand(Binomial(1, 1-p), number_samples) .- 1;\n",
    "    Y = factor .* X' * beta_true + v;\n",
    "\n",
    "    # Form and solve a standard regression problem.\n",
    "    beta = Variable(n);\n",
    "    fit = norm(beta - beta_true) / norm(beta_true);\n",
    "    cost = norm(X' * beta - Y);\n",
    "    prob = minimize(cost);\n",
    "    solve!(prob, () -> SCS.Optimizer(verbose=0));\n",
    "    lsq_data[i] = evaluate(fit);\n",
    "\n",
    "    # Form and solve a prescient regression problem,\n",
    "    # i.e., where the sign changes are known.\n",
    "    cost = norm(factor .* (X'*beta) - Y);\n",
    "    solve!(minimize(cost), () -> SCS.Optimizer(verbose=0))\n",
    "    prescient_data[i] = evaluate(fit);\n",
    "\n",
    "    # Form and solve the Huber regression problem.\n",
    "    cost = sum(huber(X' * beta - Y, 1));\n",
    "    solve!(minimize(cost), () -> SCS.Optimizer(verbose=0))\n",
    "    huber_data[i] = evaluate(fit);\n",
    "end"
   ],
   "metadata": {},
   "execution_count": null
  },
  {
   "outputs": [],
   "cell_type": "code",
   "source": [
    "using Plots\n",
    "\n",
    "plot(p_vals, huber_data, label=\"Huber\", xlabel=\"p\", ylabel=\"Fit\" )\n",
    "plot!(p_vals, lsq_data, label=\"Least squares\")\n",
    "plot!(p_vals, prescient_data, label=\"Prescient\")"
   ],
   "metadata": {},
   "execution_count": null
  },
  {
   "outputs": [],
   "cell_type": "code",
   "source": [
    "# Plot the relative reconstruction error for Huber and prescient regression,\n",
    "# zooming in on smaller values of p.\n",
    "indices = findall(p_vals .<= 0.08);\n",
    "plot(p_vals[indices], huber_data[indices], label=\"Huber\")\n",
    "plot!(p_vals[indices], prescient_data[indices], label=\"Prescient\")"
   ],
   "metadata": {},
   "execution_count": null
  },
  {
   "cell_type": "markdown",
   "source": [
    "---\n",
    "\n",
    "*This notebook was generated using [Literate.jl](https://github.com/fredrikekre/Literate.jl).*"
   ],
   "metadata": {}
  }
 ],
 "nbformat_minor": 3,
 "metadata": {
  "language_info": {
   "file_extension": ".jl",
   "mimetype": "application/julia",
   "name": "julia",
   "version": "1.0.5"
  },
  "kernelspec": {
   "name": "julia-1.0",
   "display_name": "Julia 1.0.5",
   "language": "julia"
  }
 },
 "nbformat": 4
}
