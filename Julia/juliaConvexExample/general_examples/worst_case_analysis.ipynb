{
 "cells": [
  {
   "cell_type": "markdown",
   "source": [
    "# Worst case risk analysis\n",
    "Generate data for worst-case risk analysis."
   ],
   "metadata": {}
  },
  {
   "outputs": [],
   "cell_type": "code",
   "source": [
    "using Random\n",
    "\n",
    "Random.seed!(2);\n",
    "n = 5;\n",
    "r = abs.(randn(n, 1))/15;\n",
    "Sigma = 0.9 * rand(n, n) .- 0.15;\n",
    "Sigma_nom = Sigma' * Sigma;\n",
    "Sigma_nom .-= (maximum(Sigma_nom) - 0.9)"
   ],
   "metadata": {},
   "execution_count": null
  },
  {
   "cell_type": "markdown",
   "source": [
    "Form and solve portfolio optimization problem.\n",
    "Here we minimize risk while requiring a 0.1 return."
   ],
   "metadata": {}
  },
  {
   "outputs": [],
   "cell_type": "code",
   "source": [
    "using Convex, SCS\n",
    "w = Variable(n);\n",
    "ret = dot(r, w);\n",
    "risk = sum(quadform(w, Sigma_nom));\n",
    "problem = minimize(risk, [sum(w) == 1, ret >= 0.1, norm(w, 1) <= 2])\n",
    "solve!(problem, () -> SCS.Optimizer(verbose=0));\n",
    "wval = vec(evaluate(w))"
   ],
   "metadata": {},
   "execution_count": null
  },
  {
   "cell_type": "markdown",
   "source": [
    "Form and solve worst-case risk analysis problem."
   ],
   "metadata": {}
  },
  {
   "outputs": [],
   "cell_type": "code",
   "source": [
    "Sigma = Semidefinite(n);\n",
    "Delta = Variable(n, n);\n",
    "risk = sum(quadform(wval, Sigma));\n",
    "problem = maximize(risk, [Sigma == Sigma_nom + Delta,\n",
    "                    diag(Delta) == 0,\n",
    "                    abs(Delta) <= 0.2,\n",
    "                    Delta == Delta']);\n",
    "solve!(problem, () -> SCS.Optimizer(verbose=0));\n",
    "println(\"standard deviation = \", round(sqrt(wval' * Sigma_nom * wval), sigdigits=2));\n",
    "println(\"worst-case standard deviation = \", round(sqrt(evaluate(risk)), sigdigits=2));\n",
    "println(\"worst-case Delta = \");\n",
    "println(round.(evaluate(Delta), sigdigits=2));"
   ],
   "metadata": {},
   "execution_count": null
  },
  {
   "cell_type": "markdown",
   "source": [
    "---\n",
    "\n",
    "*This notebook was generated using [Literate.jl](https://github.com/fredrikekre/Literate.jl).*"
   ],
   "metadata": {}
  }
 ],
 "nbformat_minor": 3,
 "metadata": {
  "language_info": {
   "file_extension": ".jl",
   "mimetype": "application/julia",
   "name": "julia",
   "version": "1.0.5"
  },
  "kernelspec": {
   "name": "julia-1.0",
   "display_name": "Julia 1.0.5",
   "language": "julia"
  }
 },
 "nbformat": 4
}
