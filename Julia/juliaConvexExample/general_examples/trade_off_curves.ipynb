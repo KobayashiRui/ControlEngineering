{
 "cells": [
  {
   "cell_type": "markdown",
   "source": [
    "# Trade-off curves"
   ],
   "metadata": {}
  },
  {
   "outputs": [],
   "cell_type": "code",
   "source": [
    "using Random\n",
    "Random.seed!(1)\n",
    "m = 25;\n",
    "n = 10;\n",
    "A = randn(m, n);\n",
    "b = randn(m, 1);"
   ],
   "metadata": {},
   "execution_count": null
  },
  {
   "outputs": [],
   "cell_type": "code",
   "source": [
    "using Convex, SCS, LinearAlgebra\n",
    "\n",
    "\n",
    "gammas = exp10.(range(-4, stop=2, length=100));\n",
    "\n",
    "x_values = zeros(n, length(gammas));\n",
    "x = Variable(n);\n",
    "for i=1:length(gammas)\n",
    "    cost = sumsquares(A*x - b) + gammas[i]*norm(x,1);\n",
    "    problem = minimize(cost, [norm(x, Inf) <= 1]);\n",
    "    solve!(problem, () -> SCS.Optimizer(verbose=0));\n",
    "    x_values[:,i] = evaluate(x);\n",
    "end"
   ],
   "metadata": {},
   "execution_count": null
  },
  {
   "cell_type": "markdown",
   "source": [
    "Plot the regularization path."
   ],
   "metadata": {}
  },
  {
   "outputs": [],
   "cell_type": "code",
   "source": [
    "using Plots\n",
    "plot(title = \"Entries of x vs lambda\", xaxis=:log, xlabel=\"lambda\", ylabel=\"x\" )\n",
    "for i = 1:n\n",
    "    plot!(gammas, x_values[i,:], label=\"x$i\")\n",
    "end\n",
    "plot!()"
   ],
   "metadata": {},
   "execution_count": null
  },
  {
   "cell_type": "markdown",
   "source": [
    "---\n",
    "\n",
    "*This notebook was generated using [Literate.jl](https://github.com/fredrikekre/Literate.jl).*"
   ],
   "metadata": {}
  }
 ],
 "nbformat_minor": 3,
 "metadata": {
  "language_info": {
   "file_extension": ".jl",
   "mimetype": "application/julia",
   "name": "julia",
   "version": "1.0.5"
  },
  "kernelspec": {
   "name": "julia-1.0",
   "display_name": "Julia 1.0.5",
   "language": "julia"
  }
 },
 "nbformat": 4
}
