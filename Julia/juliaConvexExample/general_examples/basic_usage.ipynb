{
 "cells": [
  {
   "cell_type": "markdown",
   "source": [
    "# Basic Usage"
   ],
   "metadata": {}
  },
  {
   "outputs": [],
   "cell_type": "code",
   "source": [
    "using Convex\n",
    "using LinearAlgebra\n",
    "if VERSION < v\"1.2.0-DEV.0\"\n",
    "    (I::UniformScaling)(n::Integer) = Diagonal(fill(I.λ, n))\n",
    "end\n",
    "\n",
    "using SCS\n",
    "# passing in verbose=0 to hide output from SCS\n",
    "solver = () -> SCS.Optimizer(verbose=0)"
   ],
   "metadata": {},
   "execution_count": null
  },
  {
   "cell_type": "markdown",
   "source": [
    "### Linear program\n",
    "\n",
    "$$\n",
    "\\begin{array}{ll}\n",
    "  \\text{maximize} & c^T x \\\\\n",
    "  \\text{subject to} & A x \\leq b\\\\\n",
    "  & x \\geq 1 \\\\\n",
    "  & x \\leq 10 \\\\\n",
    "  & x_2 \\leq 5 \\\\\n",
    "  & x_1 + x_4 - x_2 \\leq 10 \\\\\n",
    "\\end{array}\n",
    "$$"
   ],
   "metadata": {}
  },
  {
   "outputs": [],
   "cell_type": "code",
   "source": [
    "x = Variable(4)\n",
    "c = [1; 2; 3; 4]\n",
    "A = I(4)\n",
    "b = [10; 10; 10; 10]\n",
    "p = minimize(dot(c, x)) # or c' * x\n",
    "p.constraints += A * x <= b\n",
    "p.constraints += [x >= 1; x <= 10; x[2] <= 5; x[1] + x[4] - x[2] <= 10]\n",
    "solve!(p, solver)\n",
    "\n",
    "println(round(p.optval, digits=2))\n",
    "println(round.(evaluate(x), digits=2))\n",
    "println(evaluate(x[1] + x[4] - x[2]))"
   ],
   "metadata": {},
   "execution_count": null
  },
  {
   "cell_type": "markdown",
   "source": [
    "### Matrix Variables and promotions\n",
    "\n",
    "$$\n",
    "\\begin{array}{ll}\n",
    "  \\text{minimize} & \\| X \\|_F + y \\\\\n",
    "  \\text{subject to} & 2 X \\leq 1\\\\\n",
    "  & X' + y \\geq 1 \\\\\n",
    "  & X \\geq 0 \\\\\n",
    "  & y \\geq 0 \\\\\n",
    "\\end{array}\n",
    "$$"
   ],
   "metadata": {}
  },
  {
   "outputs": [],
   "cell_type": "code",
   "source": [
    "X = Variable(2, 2)\n",
    "y = Variable()\n",
    "# X is a 2 x 2 variable, and y is scalar. X' + y promotes y to a 2 x 2 variable before adding them\n",
    "p = minimize(norm(X) + y, 2 * X <= 1, X' + y >= 1, X >= 0, y >= 0)\n",
    "solve!(p, solver)\n",
    "println(round.(evaluate(X), digits=2))\n",
    "println(evaluate(y))\n",
    "p.optval"
   ],
   "metadata": {},
   "execution_count": null
  },
  {
   "cell_type": "markdown",
   "source": [
    "### Norm, exponential and geometric mean\n",
    "\n",
    "$$\n",
    "\\begin{array}{ll}\n",
    "  \\text{satisfy} & \\| x \\|_2 \\leq 100 \\\\\n",
    "  & e^{x_1} \\leq 5 \\\\\n",
    "  & x_2 \\geq 7 \\\\\n",
    "  & \\sqrt{x_3 x_4} \\geq x_2\n",
    "\\end{array}\n",
    "$$"
   ],
   "metadata": {}
  },
  {
   "outputs": [],
   "cell_type": "code",
   "source": [
    "x = Variable(4)\n",
    "p = satisfy(norm(x) <= 100, exp(x[1]) <= 5, x[2] >= 7, geomean(x[3], x[4]) >= x[2])\n",
    "solve!(p, solver)\n",
    "println(p.status)\n",
    "evaluate(x)"
   ],
   "metadata": {},
   "execution_count": null
  },
  {
   "cell_type": "markdown",
   "source": [
    "### SDP cone and Eigenvalues"
   ],
   "metadata": {}
  },
  {
   "outputs": [],
   "cell_type": "code",
   "source": [
    "y = Semidefinite(2)\n",
    "p = maximize(eigmin(y), tr(y)<=6)\n",
    "solve!(p, solver)\n",
    "p.optval"
   ],
   "metadata": {},
   "execution_count": null
  },
  {
   "outputs": [],
   "cell_type": "code",
   "source": [
    "x = Variable()\n",
    "y = Variable((2, 2))\n",
    "# SDP constraints\n",
    "p = minimize(x + y[1, 1], isposdef(y), x >= 1, y[2, 1] == 1)\n",
    "solve!(p, solver)\n",
    "evaluate(y)"
   ],
   "metadata": {},
   "execution_count": null
  },
  {
   "cell_type": "markdown",
   "source": [
    "### Mixed integer program\n",
    "\n",
    "$$\n",
    "\\begin{array}{ll}\n",
    "  \\text{minimize} & \\sum_{i=1}^n x_i \\\\\n",
    "    \\text{subject to} & x \\in \\mathbb{Z}^n \\\\\n",
    "  & x \\geq 0.5 \\\\\n",
    "\\end{array}\n",
    "$$"
   ],
   "metadata": {}
  },
  {
   "outputs": [],
   "cell_type": "code",
   "source": [
    "using GLPK\n",
    "x = Variable(4, :Int)\n",
    "p = minimize(sum(x), x >= 0.5)\n",
    "solve!(p, GLPK.Optimizer)\n",
    "evaluate(x)"
   ],
   "metadata": {},
   "execution_count": null
  },
  {
   "cell_type": "markdown",
   "source": [
    "---\n",
    "\n",
    "*This notebook was generated using [Literate.jl](https://github.com/fredrikekre/Literate.jl).*"
   ],
   "metadata": {}
  }
 ],
 "nbformat_minor": 3,
 "metadata": {
  "language_info": {
   "file_extension": ".jl",
   "mimetype": "application/julia",
   "name": "julia",
   "version": "1.0.5"
  },
  "kernelspec": {
   "name": "julia-1.0",
   "display_name": "Julia 1.0.5",
   "language": "julia"
  }
 },
 "nbformat": 4
}
