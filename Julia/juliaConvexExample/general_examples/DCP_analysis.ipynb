{
 "cells": [
  {
   "cell_type": "markdown",
   "source": [
    "# DCP analysis"
   ],
   "metadata": {}
  },
  {
   "outputs": [],
   "cell_type": "code",
   "source": [
    "using Convex\n",
    "x = Variable();\n",
    "y = Variable();\n",
    "expr = quadoverlin(x - y, 1 - max(x, y));\n",
    "println(\"expression curvature = \", vexity(expr));\n",
    "println(\"expression sign = \", sign(expr));"
   ],
   "metadata": {},
   "execution_count": null
  },
  {
   "cell_type": "markdown",
   "source": [
    "---\n",
    "\n",
    "*This notebook was generated using [Literate.jl](https://github.com/fredrikekre/Literate.jl).*"
   ],
   "metadata": {}
  }
 ],
 "nbformat_minor": 3,
 "metadata": {
  "language_info": {
   "file_extension": ".jl",
   "mimetype": "application/julia",
   "name": "julia",
   "version": "1.0.5"
  },
  "kernelspec": {
   "name": "julia-1.0",
   "display_name": "Julia 1.0.5",
   "language": "julia"
  }
 },
 "nbformat": 4
}
