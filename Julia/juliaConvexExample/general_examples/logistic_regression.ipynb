{
 "cells": [
  {
   "cell_type": "markdown",
   "source": [
    "# Logistic regression"
   ],
   "metadata": {}
  },
  {
   "outputs": [],
   "cell_type": "code",
   "source": [
    "using DataFrames\n",
    "using Plots\n",
    "using RDatasets\n",
    "using Convex\n",
    "using SCS"
   ],
   "metadata": {},
   "execution_count": null
  },
  {
   "cell_type": "markdown",
   "source": [
    "This is an example logistic regression using `RDatasets`'s iris data.\n",
    "Our goal is to gredict whether the iris species is versicolor\n",
    "using the sepal length and width and petal length and width."
   ],
   "metadata": {}
  },
  {
   "outputs": [],
   "cell_type": "code",
   "source": [
    "iris = dataset(\"datasets\", \"iris\");\n",
    "iris[1:10,:]"
   ],
   "metadata": {},
   "execution_count": null
  },
  {
   "cell_type": "markdown",
   "source": [
    "We'll define `Y` as the outcome variable: +1 for versicolor, -1 otherwise."
   ],
   "metadata": {}
  },
  {
   "outputs": [],
   "cell_type": "code",
   "source": [
    "Y = [species == \"versicolor\" ? 1.0 : -1.0 for species in iris.Species]"
   ],
   "metadata": {},
   "execution_count": null
  },
  {
   "cell_type": "markdown",
   "source": [
    "We'll create our data matrix with one column for each feature\n",
    "(first column corresponds to offset)."
   ],
   "metadata": {}
  },
  {
   "outputs": [],
   "cell_type": "code",
   "source": [
    "X = hcat(ones(size(iris, 1)), iris.SepalLength, iris.SepalWidth, iris.PetalLength, iris.PetalWidth);"
   ],
   "metadata": {},
   "execution_count": null
  },
  {
   "cell_type": "markdown",
   "source": [
    "Now to solve the logistic regression problem."
   ],
   "metadata": {}
  },
  {
   "outputs": [],
   "cell_type": "code",
   "source": [
    "n, p = size(X)\n",
    "beta = Variable(p)\n",
    "problem = minimize(logisticloss(-Y.*(X*beta)))\n",
    "solve!(problem, () -> SCS.Optimizer(verbose=false))"
   ],
   "metadata": {},
   "execution_count": null
  },
  {
   "cell_type": "markdown",
   "source": [
    "Let's see how well the model fits."
   ],
   "metadata": {}
  },
  {
   "outputs": [],
   "cell_type": "code",
   "source": [
    "using Plots\n",
    "logistic(x::Real) = inv(exp(-x) + one(x))\n",
    "perm = sortperm(vec(X*evaluate(beta)))\n",
    "plot(1:n, (Y[perm] .+ 1)/2, st=:scatter)\n",
    "plot!(1:n, logistic.(X*evaluate(beta))[perm])"
   ],
   "metadata": {},
   "execution_count": null
  },
  {
   "cell_type": "markdown",
   "source": [
    "---\n",
    "\n",
    "*This notebook was generated using [Literate.jl](https://github.com/fredrikekre/Literate.jl).*"
   ],
   "metadata": {}
  }
 ],
 "nbformat_minor": 3,
 "metadata": {
  "language_info": {
   "file_extension": ".jl",
   "mimetype": "application/julia",
   "name": "julia",
   "version": "1.0.5"
  },
  "kernelspec": {
   "name": "julia-1.0",
   "display_name": "Julia 1.0.5",
   "language": "julia"
  }
 },
 "nbformat": 4
}
