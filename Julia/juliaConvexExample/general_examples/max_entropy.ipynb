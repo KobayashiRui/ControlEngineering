{
 "cells": [
  {
   "cell_type": "markdown",
   "source": [
    "# Entropy Maximization\n",
    "\n",
    "Here is a constrained entropy maximization problem:\n",
    "\n",
    "$$\n",
    "\\begin{array}{ll}\n",
    "    \\text{maximize}   & -\\sum_{i=1}^n x_i \\log x_i \\\\\n",
    "    \\text{subject to} & \\mathbf{1}' x = 1 \\\\\n",
    "                  & Ax \\leq b\n",
    "\\end{array}\n",
    "$$\n",
    "\n",
    "where $x \\in \\mathbf{R}^n$ is our optimization variable and $A \\in \\mathbf{R}^{m \\times n}, b \\in \\mathbf{R}^{m}$.\n",
    "\n",
    "To solve this, we can simply use the `entropy` operation Convex.jl provides."
   ],
   "metadata": {}
  },
  {
   "outputs": [],
   "cell_type": "code",
   "source": [
    "using Convex, SCS\n",
    "\n",
    "n = 25;\n",
    "m = 15;\n",
    "A = randn(m, n);\n",
    "b = rand(m, 1);\n",
    "\n",
    "x = Variable(n);\n",
    "problem = maximize(entropy(x), sum(x) == 1, A * x <= b)\n",
    "solve!(problem, () -> SCS.Optimizer(verbose=false))\n",
    "problem.optval"
   ],
   "metadata": {},
   "execution_count": null
  },
  {
   "outputs": [],
   "cell_type": "code",
   "source": [
    "evaluate(x)"
   ],
   "metadata": {},
   "execution_count": null
  },
  {
   "cell_type": "markdown",
   "source": [
    "---\n",
    "\n",
    "*This notebook was generated using [Literate.jl](https://github.com/fredrikekre/Literate.jl).*"
   ],
   "metadata": {}
  }
 ],
 "nbformat_minor": 3,
 "metadata": {
  "language_info": {
   "file_extension": ".jl",
   "mimetype": "application/julia",
   "name": "julia",
   "version": "1.0.5"
  },
  "kernelspec": {
   "name": "julia-1.0",
   "display_name": "Julia 1.0.5",
   "language": "julia"
  }
 },
 "nbformat": 4
}
