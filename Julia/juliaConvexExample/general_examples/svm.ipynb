{
 "cells": [
  {
   "cell_type": "markdown",
   "source": [
    "# Support vector machine\n",
    "### Support Vector Machine (SVM)\n",
    "We are given two sets of points in ${\\bf R}^n$, $\\{x_1, \\ldots, x_N\\}$ and $\\{y_1, \\ldots, y_M\\}$, and wish to find a function $f(x) = w^T x - b$ that linearly separates the points, i.e. $f(x_i) \\geq 1$ for $i = 1, \\ldots, N$ and $f(y_i) \\leq -1$ for $i = 1, \\ldots, M$. That is, the points are separated by two hyperplanes, $w^T x - b = 1$ and $w^T x - b = -1$.\n",
    "\n",
    "Perfect linear separation is not always possible, so we seek to minimize the amount that these inequalities are violated. The violation of point $x_i$ is $\\text{max} \\{1 + b - w^T x_i, 0\\}$, and the violation of point $y_i$ is $\\text{max} \\{1 - b + w^T y_i, 0\\}$. We tradeoff the error $\\sum_{i=1}^N \\text{max} \\{1 + b - w^T x_i, 0\\} + \\sum_{i=1}^M \\text{max} \\{1 - b + w^T y_i, 0\\}$ with the distance between the two hyperplanes, which we want to be large, via minimizing $\\|w\\|^2$.\n",
    "\n",
    "We can write this problem as\n",
    "\n",
    "$$\n",
    "\\begin{array}{ll}\n",
    "    \\text{minimize}   & \\|w\\|^2 + C * (\\sum_{i=1}^N \\text{max} \\{1 + b - w^T x_i, 0\\} + \\sum_{i=1}^M \\text{max} \\{1 - b + w^T y_i, 0\\})\n",
    "\\end{array},\n",
    "$$\n",
    "\n",
    "where $w \\in {\\bf R}^n$ and $b \\in {\\bf R}$ are our optimization variables.\n",
    "\n",
    "We can solve the problem as follows."
   ],
   "metadata": {}
  },
  {
   "outputs": [],
   "cell_type": "code",
   "source": [
    "using Convex, SCS"
   ],
   "metadata": {},
   "execution_count": null
  },
  {
   "outputs": [],
   "cell_type": "code",
   "source": [
    "# Generate data.\n",
    "n = 2; # dimensionality of data\n",
    "C = 10; # inverse regularization parameter in the objective\n",
    "N = 10; # number of positive examples\n",
    "M = 10; # number of negative examples\n",
    "\n",
    "using Distributions: MvNormal\n",
    "# positive data points\n",
    "pos_data = rand(MvNormal([1.0, 2.0], 1.0), N);\n",
    "# negative data points\n",
    "neg_data = rand(MvNormal([-1.0, 2.0], 1.0), M);"
   ],
   "metadata": {},
   "execution_count": null
  },
  {
   "outputs": [],
   "cell_type": "code",
   "source": [
    "function svm(pos_data, neg_data, solver=() -> SCS.Optimizer(verbose=0))\n",
    "    # Create variables for the separating hyperplane w'*x = b.\n",
    "    w = Variable(n)\n",
    "    b = Variable()\n",
    "    # Form the objective.\n",
    "    obj = sumsquares(w) + C*sum(max(1+b-w'*pos_data, 0)) + C*sum(max(1-b+w'*neg_data, 0))\n",
    "    # Form and solve problem.\n",
    "    problem = minimize(obj)\n",
    "    solve!(problem, solver)\n",
    "    return evaluate(w), evaluate(b)\n",
    "end;"
   ],
   "metadata": {},
   "execution_count": null
  },
  {
   "outputs": [],
   "cell_type": "code",
   "source": [
    "w, b = svm(pos_data, neg_data);"
   ],
   "metadata": {},
   "execution_count": null
  },
  {
   "outputs": [],
   "cell_type": "code",
   "source": [
    "# Plot our results.\n",
    "using Plots"
   ],
   "metadata": {},
   "execution_count": null
  },
  {
   "cell_type": "markdown",
   "source": [
    "Generate the separating hyperplane"
   ],
   "metadata": {}
  },
  {
   "outputs": [],
   "cell_type": "code",
   "source": [
    "line_x = -2:0.1:2;\n",
    "line_y = (-w[1] * line_x .+ b)/w[2];"
   ],
   "metadata": {},
   "execution_count": null
  },
  {
   "cell_type": "markdown",
   "source": [
    "Plot the positive points, negative points, and separating hyperplane."
   ],
   "metadata": {}
  },
  {
   "outputs": [],
   "cell_type": "code",
   "source": [
    "plot(pos_data[1,:], pos_data[2,:], st=:scatter, label=\"Positive points\")\n",
    "plot!(neg_data[1,:], neg_data[2,:], st=:scatter, label=\"Negative points\")\n",
    "plot!(line_x, line_y, label=\"Separating hyperplane\")"
   ],
   "metadata": {},
   "execution_count": null
  },
  {
   "cell_type": "markdown",
   "source": [
    "---\n",
    "\n",
    "*This notebook was generated using [Literate.jl](https://github.com/fredrikekre/Literate.jl).*"
   ],
   "metadata": {}
  }
 ],
 "nbformat_minor": 3,
 "metadata": {
  "language_info": {
   "file_extension": ".jl",
   "mimetype": "application/julia",
   "name": "julia",
   "version": "1.0.5"
  },
  "kernelspec": {
   "name": "julia-1.0",
   "display_name": "Julia 1.0.5",
   "language": "julia"
  }
 },
 "nbformat": 4
}
