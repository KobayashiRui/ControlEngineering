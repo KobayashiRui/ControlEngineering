{
 "cells": [
  {
   "cell_type": "markdown",
   "source": [
    "# Optimal advertising"
   ],
   "metadata": {}
  },
  {
   "cell_type": "markdown",
   "source": [
    "This example is taken from <https://web.stanford.edu/~boyd/papers/pdf/cvx_applications.pdf>."
   ],
   "metadata": {}
  },
  {
   "cell_type": "markdown",
   "source": [
    "Setup:\n",
    "\n",
    "* We have $m$ adverts and $n$ timeslots\n",
    "* The total traffic in time slot $t$ is $T_t$\n",
    "* The number of ad $i$ displayed in period $t$ is $D_{it} \\geq 0$\n",
    "* We require $\\sum_{i=1}^m D_{it} \\leq T_t$ since we cannot show more than $T_t$ ads during time slot $t$.\n",
    "* We require $\\sum_{t=1}^n D_{it} \\geq c_i$ to fulfill a contract to show advertisement $i$ at least $c_i$ times.\n",
    "\n",
    "Goal: Choose $D_{it}$.\n",
    "\n",
    "For some empirical $P_{it}$ with $0 \\leq P_{it} \\leq 1$, we obtain $C_{it} = P_{it}D_{it}$ clicks for ad $i$, which pays us some number $R_i > 0$ up to a budget $B_i$.\n",
    "The ad revenue for ad $i$ is $S_i = \\min( R_i \\sum_t C_{it}, B_i )$ which is concave in $D$.\n",
    "We aim to maximize $\\sum_i S_i$."
   ],
   "metadata": {}
  },
  {
   "outputs": [],
   "cell_type": "code",
   "source": [
    "using Random\n",
    "using Distributions: LogNormal\n",
    "Random.seed!(1);\n",
    "\n",
    "\n",
    "m = 5; # number of adverts\n",
    "n = 24; # number of timeslots\n",
    "SCALE = 10000;\n",
    "B = rand(LogNormal(8), m) .+ 10000;\n",
    "B = round.(B, digits=3); # Budget\n",
    "\n",
    "P_ad = rand(m);\n",
    "P_time = rand(1,n);\n",
    "P = P_ad * P_time;\n",
    "\n",
    "T = sin.(range(-2*pi/2, stop=2*pi-2*pi/2, length=n)) * SCALE;\n",
    "T .+= -minimum(T) + SCALE; # traffic\n",
    "c = rand(m); # contractual minimum\n",
    "c *= 0.6*sum(T)/sum(c);\n",
    "c = round.(c, digits=3);\n",
    "R = [rand(LogNormal(minimum(c)/c[i]), 1) for i=1:m]; # revenue"
   ],
   "metadata": {},
   "execution_count": null
  },
  {
   "outputs": [],
   "cell_type": "code",
   "source": [
    "# Form and solve the optimal advertising problem.\n",
    "using Convex, SCS;\n",
    "D = Variable(m, n);\n",
    "Si = [min(R[i]*dot(P[i,:], D[i,:]'), B[i]) for i=1:m];\n",
    "problem = maximize(sum(Si),\n",
    "               [D >= 0, sum(D, dims=1)' <= T, sum(D, dims=2) >= c]);\n",
    "solve!(problem, () -> SCS.Optimizer(verbose=0));"
   ],
   "metadata": {},
   "execution_count": null
  },
  {
   "cell_type": "markdown",
   "source": [
    "Plot traffic."
   ],
   "metadata": {}
  },
  {
   "outputs": [],
   "cell_type": "code",
   "source": [
    "using Plots\n",
    "plot(1:length(T), T, xlabel=\"hour\", ylabel=\"Traffic\")"
   ],
   "metadata": {},
   "execution_count": null
  },
  {
   "cell_type": "markdown",
   "source": [
    "Plot P."
   ],
   "metadata": {}
  },
  {
   "outputs": [],
   "cell_type": "code",
   "source": [
    "heatmap(P)"
   ],
   "metadata": {},
   "execution_count": null
  },
  {
   "cell_type": "markdown",
   "source": [
    "Plot optimal D."
   ],
   "metadata": {}
  },
  {
   "outputs": [],
   "cell_type": "code",
   "source": [
    "heatmap(evaluate(D))"
   ],
   "metadata": {},
   "execution_count": null
  },
  {
   "cell_type": "markdown",
   "source": [
    "---\n",
    "\n",
    "*This notebook was generated using [Literate.jl](https://github.com/fredrikekre/Literate.jl).*"
   ],
   "metadata": {}
  }
 ],
 "nbformat_minor": 3,
 "metadata": {
  "language_info": {
   "file_extension": ".jl",
   "mimetype": "application/julia",
   "name": "julia",
   "version": "1.0.5"
  },
  "kernelspec": {
   "name": "julia-1.0",
   "display_name": "Julia 1.0.5",
   "language": "julia"
  }
 },
 "nbformat": 4
}
