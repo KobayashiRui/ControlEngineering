{
 "cells": [
  {
   "cell_type": "markdown",
   "source": [
    "# Chebyshev center\n",
    "Boyd & Vandenberghe, \"Convex Optimization\"\n",
    "Joëlle Skaf - 08/16/05\n",
    "\n",
    "Adapted for Convex.jl by Karanveer Mohan and David Zeng - 26/05/14\n",
    "\n",
    "The goal is to find the largest Euclidean ball (i.e. its center and\n",
    "radius) that lies in a polyhedron described by affine inequalites in this\n",
    "fashion: $P = \\{x : a_i'*x \\leq b_i, i=1,\\ldots,m \\}$ where $x \\in \\mathbb{R}^2$."
   ],
   "metadata": {}
  },
  {
   "outputs": [],
   "cell_type": "code",
   "source": [
    "using Convex, LinearAlgebra, SCS"
   ],
   "metadata": {},
   "execution_count": null
  },
  {
   "cell_type": "markdown",
   "source": [
    "Generate the input data"
   ],
   "metadata": {}
  },
  {
   "outputs": [],
   "cell_type": "code",
   "source": [
    "a1 = [ 2;  1];\n",
    "a2 = [ 2; -1];\n",
    "a3 = [-1;  2];\n",
    "a4 = [-1; -2];\n",
    "b = ones(4, 1);"
   ],
   "metadata": {},
   "execution_count": null
  },
  {
   "cell_type": "markdown",
   "source": [
    "Create and solve the model"
   ],
   "metadata": {}
  },
  {
   "outputs": [],
   "cell_type": "code",
   "source": [
    "r = Variable(1)\n",
    "x_c = Variable(2)\n",
    "p = maximize(r)\n",
    "p.constraints += a1' * x_c + r * norm(a1, 2) <= b[1];\n",
    "p.constraints += a2' * x_c + r * norm(a2, 2) <= b[2];\n",
    "p.constraints += a3' * x_c + r * norm(a3, 2) <= b[3];\n",
    "p.constraints += a4' * x_c + r * norm(a4, 2) <= b[4];\n",
    "solve!(p, () -> SCS.Optimizer(verbose=0))\n",
    "p.optval"
   ],
   "metadata": {},
   "execution_count": null
  },
  {
   "cell_type": "markdown",
   "source": [
    "Generate the figure"
   ],
   "metadata": {}
  },
  {
   "outputs": [],
   "cell_type": "code",
   "source": [
    "x = range(-1.5, stop=1.5, length=100);\n",
    "theta = 0:pi/100:2*pi;\n",
    "using Plots\n",
    "plot(x, x -> -x * a1[1] / a1[2] + b[1] / a1[2])\n",
    "plot!(x, x -> -x * a2[1]/ a2[2] + b[2] / a2[2])\n",
    "plot!(x, x -> -x * a3[1]/ a3[2] + b[3] / a3[2])\n",
    "plot!(x, x -> -x * a4[1]/ a4[2] + b[4] / a4[2])\n",
    "plot!(evaluate(x_c)[1] .+ evaluate(r) * cos.(theta), evaluate(x_c)[2] .+ evaluate(r) * sin.(theta), linewidth = 2)\n",
    "plot!(title =\"Largest Euclidean ball lying in a 2D polyhedron\", legend = nothing)"
   ],
   "metadata": {},
   "execution_count": null
  },
  {
   "cell_type": "markdown",
   "source": [
    "---\n",
    "\n",
    "*This notebook was generated using [Literate.jl](https://github.com/fredrikekre/Literate.jl).*"
   ],
   "metadata": {}
  }
 ],
 "nbformat_minor": 3,
 "metadata": {
  "language_info": {
   "file_extension": ".jl",
   "mimetype": "application/julia",
   "name": "julia",
   "version": "1.0.5"
  },
  "kernelspec": {
   "name": "julia-1.0",
   "display_name": "Julia 1.0.5",
   "language": "julia"
  }
 },
 "nbformat": 4
}
