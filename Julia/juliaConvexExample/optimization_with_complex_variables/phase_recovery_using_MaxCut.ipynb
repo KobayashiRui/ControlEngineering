{
 "cells": [
  {
   "cell_type": "markdown",
   "source": [
    "# Phase recovery using MaxCut\n",
    "\n",
    "In this example, we relax the phase retrieval problem similar to the classical\n",
    "[MaxCut](http://www-math.mit.edu/~goemans/PAPERS/maxcut-jacm.pdf) semidefinite\n",
    "program and recover the phase of the signal given the magnitude of the linear\n",
    "measurements.\n",
    "\n",
    "Phase recovery has wide applications such as  in X-ray and crystallography\n",
    "imaging, diffraction imaging or microscopy and audio signal processing. In all\n",
    "these applications, the detectors cannot measure the phase of the incoming wave\n",
    "and only record its amplitude i.e complex measurements of a signal\n",
    "$x \\in \\mathbb{C}^p$ are obtained from a linear injective operator $A$, **but we\n",
    "can only measure the magnitude vector $Ax$, not the phase of $Ax$**.\n",
    "\n",
    "Recovering the phase of $Ax$ from $|Ax|$ is a **nonconvex optimization problem**. Using results from [this paper](https://arxiv.org/abs/1206.0102), the problem can be relaxed to a (complex) semidefinite program (complex SDP).\n",
    "\n",
    "The original reprsentation of the problem is as follows:\n",
    "\n",
    "$$\n",
    "\\begin{array}{ll}\n",
    "  \\text{find} & x \\in \\mathbb{C}^p \\\\\n",
    "    \\text{subject to} & |Ax| = b\n",
    "\\end{array}\n",
    "$$\n",
    "\n",
    "where $A \\in \\mathbb{C}^{n \\times p}$ and $b \\in \\mathbb{R}^n$."
   ],
   "metadata": {}
  },
  {
   "cell_type": "markdown",
   "source": [
    "In this example, **the problem is to find the phase of $Ax$ given the value $|Ax|$**.\n",
    "Given a linear operator $A$ and a vector $b= |Ax|$ of measured amplitudes,\n",
    "in the noiseless case, we can write $Ax = \\text{diag}(b)u$ where\n",
    "$u \\in \\mathbb{C}^n$  is a phase vector, satisfying\n",
    "$|\\mathbb{u}_i| = 1$ for $i = 1,\\ldots, n$.\n",
    "\n",
    "We relax this problem as Complex Semidefinite Programming.\n",
    "\n",
    "### Relaxed Problem similar to [MaxCut](http://www-math.mit.edu/~goemans/PAPERS/maxcut-jacm.pdf)\n",
    "\n",
    "Define the positive semidefinite hermitian matrix\n",
    "$M = \\text{diag}(b) (I - A A^*) \\text{diag}(b)$. The problem is:\n",
    "\n",
    "$$\n",
    "\\begin{array}{ll}\n",
    "  \\text{minimize} & \\langle U, M \\rangle \\\\\n",
    "    \\text{subject to} & \\text{diag}(U) = 1\\\\\n",
    "    & U \\succeq 0\n",
    "\\end{array}\n",
    "$$\n",
    "\n",
    "Here the variable $U$ must be hermitian ($U \\in \\mathbb{H}_n $),\n",
    "and we have a solution to the phase recovery problem if $U = u u^*$\n",
    "has rank one. Otherwise, the leading singular vector of $U$ can be used\n",
    "to approximate the solution."
   ],
   "metadata": {}
  },
  {
   "outputs": [],
   "cell_type": "code",
   "source": [
    "using Convex, SCS, LinearAlgebra\n",
    "if VERSION < v\"1.2.0-DEV.0\"\n",
    "    (I::UniformScaling)(n::Integer) = Diagonal(fill(I.λ, n))\n",
    "     LinearAlgebra.diagm(v::AbstractVector) = diagm(0 => v)\n",
    "end\n",
    "\n",
    "n = 20\n",
    "p = 2\n",
    "A = rand(n,p) + im*randn(n,p)\n",
    "x = rand(p) + im*randn(p)\n",
    "b = abs.(A*x) + rand(n)\n",
    "\n",
    "M = diagm(b)*(I(n)-A*A')*diagm(b)\n",
    "U = ComplexVariable(n,n)\n",
    "objective = inner_product(U,M)\n",
    "c1 = diag(U) == 1\n",
    "c2 = U in :SDP\n",
    "p = minimize(objective,c1,c2)\n",
    "solve!(p, () -> SCS.Optimizer(verbose=0))\n",
    "evaluate(U)"
   ],
   "metadata": {},
   "execution_count": null
  },
  {
   "cell_type": "markdown",
   "source": [
    "Verify if the rank of $U$ is 1:"
   ],
   "metadata": {}
  },
  {
   "outputs": [],
   "cell_type": "code",
   "source": [
    "B, C = eigen(evaluate(U));\n",
    "length([e for e in B if(abs(real(e))>1e-4)])"
   ],
   "metadata": {},
   "execution_count": null
  },
  {
   "cell_type": "markdown",
   "source": [
    "Decompose $U = uu^*$ where $u$ is the phase of $Ax$"
   ],
   "metadata": {}
  },
  {
   "outputs": [],
   "cell_type": "code",
   "source": [
    "u = C[:,1];\n",
    "for i in 1:n\n",
    "    u[i] = u[i]/abs(u[i])\n",
    "end\n",
    "u"
   ],
   "metadata": {},
   "execution_count": null
  },
  {
   "cell_type": "markdown",
   "source": [
    "---\n",
    "\n",
    "*This notebook was generated using [Literate.jl](https://github.com/fredrikekre/Literate.jl).*"
   ],
   "metadata": {}
  }
 ],
 "nbformat_minor": 3,
 "metadata": {
  "language_info": {
   "file_extension": ".jl",
   "mimetype": "application/julia",
   "name": "julia",
   "version": "1.0.5"
  },
  "kernelspec": {
   "name": "julia-1.0",
   "display_name": "Julia 1.0.5",
   "language": "julia"
  }
 },
 "nbformat": 4
}
