{
 "cells": [
  {
   "cell_type": "markdown",
   "source": [
    "# Fidelity in quantum information theory\n",
    "This example is inspired from a lecture of John Watrous in the [course on Theory of Quantum Information](https://cs.uwaterloo.ca/~watrous/CS766/LectureNotes/08.pdf).\n",
    "\n",
    "The Fidelity between two Hermitian semidefinite matrices P and Q is defined as:\n",
    "\n",
    "$$\n",
    "F(P, Q) = \\|P^{1/2}Q^{1/2}\\|_{\\text{tr}} = \\max_U \\mathrm{tr}(P^{1/2}U Q^{1/2})\n",
    "$$\n",
    "\n",
    "where the trace norm $\\|\\cdot\\|_{\\text{tr}}$ is the sum of the singular values, and the maximization goes over the set of all unitary matrices U. This quantity can be expressed as the optimal value of the following complex-valued SDP:\n",
    "\n",
    "$$\n",
    "\\begin{array}{ll}\n",
    "  \\text{maximize} &  \\frac{1}{2}\\text{tr}(Z+Z^\\dagger) \\\\\n",
    "  \\text{subject to} &\\\\\n",
    "  & \\left[\\begin{array}{cc}P&Z\\\\{Z}^{\\dagger}&Q\\end{array}\\right] \\succeq 0\\\\\n",
    "  & Z \\in \\mathbf {C}^{n \\times n}\\\\\n",
    "\\end{array}\n",
    "$$"
   ],
   "metadata": {}
  },
  {
   "outputs": [],
   "cell_type": "code",
   "source": [
    "using Convex, SCS, LinearAlgebra\n",
    "if VERSION < v\"1.2.0-DEV.0\"\n",
    "     LinearAlgebra.diagm(v::AbstractVector) = diagm(0 => v)\n",
    "end\n",
    "\n",
    "n = 20\n",
    "P = randn(n,n) + im*randn(n,n)\n",
    "P = P*P'\n",
    "Q = randn(n,n) + im*randn(n,n)\n",
    "Q = Q*Q'\n",
    "Z = ComplexVariable(n,n)\n",
    "objective = 0.5*real(tr(Z+Z'))\n",
    "constraint = [P Z;Z' Q] ⪰ 0\n",
    "problem = maximize(objective,constraint)\n",
    "solve!(problem, () -> SCS.Optimizer(verbose=0))\n",
    "computed_fidelity = evaluate(objective)"
   ],
   "metadata": {},
   "execution_count": null
  },
  {
   "outputs": [],
   "cell_type": "code",
   "source": [
    "# Verify that computer fidelity is equal to actual fidelity\n",
    "P1,P2 = eigen(P)\n",
    "sqP = P2 * diagm([p1^0.5 for p1 in P1]) * P2'\n",
    "Q1,Q2 = eigen(Q)\n",
    "sqQ = Q2 * diagm([q1^0.5 for q1 in Q1]) * Q2'"
   ],
   "metadata": {},
   "execution_count": null
  },
  {
   "outputs": [],
   "cell_type": "code",
   "source": [
    "actual_fidelity = sum(svdvals(sqP * sqQ))"
   ],
   "metadata": {},
   "execution_count": null
  },
  {
   "cell_type": "markdown",
   "source": [
    "We can see that the actual fidelity value is very close the computed fidelity value."
   ],
   "metadata": {}
  },
  {
   "cell_type": "markdown",
   "source": [
    "---\n",
    "\n",
    "*This notebook was generated using [Literate.jl](https://github.com/fredrikekre/Literate.jl).*"
   ],
   "metadata": {}
  }
 ],
 "nbformat_minor": 3,
 "metadata": {
  "language_info": {
   "file_extension": ".jl",
   "mimetype": "application/julia",
   "name": "julia",
   "version": "1.0.5"
  },
  "kernelspec": {
   "name": "julia-1.0",
   "display_name": "Julia 1.0.5",
   "language": "julia"
  }
 },
 "nbformat": 4
}
