{
 "cells": [
  {
   "cell_type": "markdown",
   "source": [
    "# Power flow optimization\n",
    "The data for example is taken from [MATPOWER](http://www.pserc.cornell.edu/matpower/) website. MATPOWER is Matlab package for solving power flow and optimal power flow problems."
   ],
   "metadata": {}
  },
  {
   "outputs": [],
   "cell_type": "code",
   "source": [
    "using Convex, SCS\n",
    "using Test\n",
    "using MAT   #Pkg.add(\"MAT\")\n",
    "aux(str) = joinpath(@__DIR__, \"aux_files\", str) # path to auxiliary files\n",
    "\n",
    "TOL = 1e-2;\n",
    "input = matopen(aux(\"Data.mat\"))\n",
    "varnames = names(input)\n",
    "Data = read(input, \"inj\", \"Y\");\n",
    "\n",
    "n = size(Data[2], 1);\n",
    "Y = Data[2];\n",
    "inj = Data[1];\n",
    "W = ComplexVariable(n, n);\n",
    "objective = real(sum(diag(W)));\n",
    "c1 = Constraint[];\n",
    "for i = 2:n\n",
    "    push!(c1, sum(W[i,:] .* (Y[i,:]')) == inj[i]);\n",
    "end\n",
    "c2 = W in :SDP\n",
    "c3 = real(W[1,1]) == 1.06^2;\n",
    "push!(c1, c2)\n",
    "push!(c1, c3)\n",
    "p = maximize(objective, c1);\n",
    "solve!(p, () -> SCS.Optimizer(verbose = 0))\n",
    "p.optval\n",
    "#15.125857662600703\n",
    "evaluate(objective)\n",
    "#15.1258578588357\n",
    "\n",
    "\n",
    "output = matopen(\"Res.mat\")\n",
    "names(output)\n",
    "outputData = read(output, \"Wres\");\n",
    "Wres = outputData\n",
    "real_diff = real(evaluate(W)) - real(Wres);\n",
    "imag_diff = imag(evaluate(W)) - imag(Wres);\n",
    "@test real_diff ≈ zeros(n, n) atol = TOL\n",
    "@test imag_diff ≈ zeros(n, n) atol = TOL\n",
    "\n",
    "real_diff = real(evaluate(W)) - (real(evaluate(W)))';\n",
    "imag_sum = imag(evaluate(W)) + (imag(evaluate(W)))';\n",
    "@test real_diff ≈ zeros(n, n) atol = TOL\n",
    "@test imag_diff ≈ zeros(n, n) atol = TOL"
   ],
   "metadata": {},
   "execution_count": null
  },
  {
   "cell_type": "markdown",
   "source": [
    "---\n",
    "\n",
    "*This notebook was generated using [Literate.jl](https://github.com/fredrikekre/Literate.jl).*"
   ],
   "metadata": {}
  }
 ],
 "nbformat_minor": 3,
 "metadata": {
  "language_info": {
   "file_extension": ".jl",
   "mimetype": "application/julia",
   "name": "julia",
   "version": "1.0.5"
  },
  "kernelspec": {
   "name": "julia-1.0",
   "display_name": "Julia 1.0.5",
   "language": "julia"
  }
 },
 "nbformat": 4
}
