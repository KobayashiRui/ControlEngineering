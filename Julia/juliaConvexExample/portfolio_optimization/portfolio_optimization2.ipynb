{
 "cells": [
  {
   "cell_type": "markdown",
   "source": [
    "#  Portfolio Optimization - Markowitz Efficient Frontier\n",
    "\n",
    "In this problem, we will find the unconstrained portfolio allocation where we introduce the weighting parameter $\\lambda \\;(0 \\leq \\lambda \\leq$ 1) and minimize $\\lambda * \\text{risk} - (1-\\lambda)* \\text{expected return}$. By varying the values of $\\lambda$, we trace out the efficient frontier.\n",
    "\n",
    "Suppose that we know the mean returns $\\mu \\in \\mathbf{R}^n$ of each asset and the covariance $\\Sigma \\in \\mathbf{R}^{n \\times n}$ between the assets. Our objective is to find a portfolio allocation that minimizes the *risk* (which we measure as the variance $w^T \\Sigma w$) and maximizes the *expected return* ($w^T \\mu$) of the portfolio of the simulataneously. We require $w \\in \\mathbf{R}^n$ and $\\sum_i w_i = 1$.\n",
    "\n",
    "This problem can be written as\n",
    "\n",
    "$$\n",
    "\\begin{array}{ll}\n",
    "    \\text{minimize}   & \\lambda*w^T \\Sigma w - (1-\\lambda)*w^T \\mu \\\\\n",
    "    \\text{subject to} & \\sum_i w_i = 1\n",
    "\\end{array}\n",
    "$$\n",
    "\n",
    "where $w \\in \\mathbf{R}^n$ is the vector containing weights allocated to each asset."
   ],
   "metadata": {}
  },
  {
   "outputs": [],
   "cell_type": "code",
   "source": [
    "using Convex, SCS    #We are using SCS solver. Install using Pkg.add(\"SCS\")\n",
    "\n",
    "# generate problem data\n",
    "μ = [11.5; 9.5; 6]/100          #expected returns\n",
    "Σ  = [166  34  58;              #covariance matrix\n",
    "       34  64   4;\n",
    "       58   4 100]/100^2\n",
    "\n",
    "n = length(μ)                   #number of assets"
   ],
   "metadata": {},
   "execution_count": null
  },
  {
   "cell_type": "markdown",
   "source": [
    "If you want to try the optimization with more assets, uncomment and run the next cell. It creates a vector or average returns and a variance-covariance matrix that have scales similar to the numbers above."
   ],
   "metadata": {}
  },
  {
   "outputs": [],
   "cell_type": "code",
   "source": [
    "#=\n",
    "using Random\n",
    "Random.seed!(123)\n",
    "\n",
    "n = 15                                      #number of assets, CHANGE IT?\n",
    "\n",
    "μ = (6 .+ (11.5-6)*rand(n))/100             #mean\n",
    "A = randn(n,n)\n",
    "Σ = (A * A' + diagm(0=>rand(n)))/500;       #covariance matrix\n",
    "=#"
   ],
   "metadata": {},
   "execution_count": null
  },
  {
   "cell_type": "markdown",
   "source": [
    "First we solve without any bounds on $w$"
   ],
   "metadata": {}
  },
  {
   "outputs": [],
   "cell_type": "code",
   "source": [
    "N = 101\n",
    "λ_vals = range(0.01,stop=0.99,length=N)\n",
    "\n",
    "w    = Variable(n)\n",
    "ret  = dot(w,μ)\n",
    "risk = quadform(w,Σ)\n",
    "\n",
    "MeanVarA = zeros(N,2)\n",
    "for i = 1:N\n",
    "    λ = λ_vals[i]\n",
    "    p = minimize( λ*risk - (1-λ)*ret,\n",
    "                  sum(w) == 1 )\n",
    "    solve!(p, () -> SCS.Optimizer(verbose = false))\n",
    "    MeanVarA[i,:]= [evaluate(ret),evaluate(risk)]\n",
    "end"
   ],
   "metadata": {},
   "execution_count": null
  },
  {
   "cell_type": "markdown",
   "source": [
    "Now we solve with the bounds $0\\le w_i \\le 1$"
   ],
   "metadata": {}
  },
  {
   "outputs": [],
   "cell_type": "code",
   "source": [
    "w_lower = 0                     #bounds on w\n",
    "w_upper = 1\n",
    "\n",
    "MeanVarB = zeros(N,2)   #repeat, but with 0<w[i]<1\n",
    "for i = 1:N\n",
    "    λ = λ_vals[i]\n",
    "    p = minimize( λ*risk - (1-λ)*ret,\n",
    "                  sum(w) == 1,\n",
    "                  w_lower <= w,     #w[i] is bounded\n",
    "                  w <= w_upper )\n",
    "    solve!(p, () -> SCS.Optimizer(verbose = false))\n",
    "    MeanVarB[i,:]= [evaluate(ret),evaluate(risk)]\n",
    "end"
   ],
   "metadata": {},
   "execution_count": null
  },
  {
   "outputs": [],
   "cell_type": "code",
   "source": [
    "using Plots\n",
    "plot( sqrt.([MeanVarA[:,2] MeanVarB[:,2]]),\n",
    "      [MeanVarA[:,1] MeanVarB[:,1]],\n",
    "      xlim = (0,0.25),\n",
    "      ylim = (0,0.15),\n",
    "      title = \"Markowitz Efficient Frontier\",\n",
    "      xlabel = \"Standard deviation\",\n",
    "      ylabel = \"Expected return\",\n",
    "      label = [\"no bounds on w\" \"with 0<w<1\"])\n",
    "scatter!(sqrt.(diag(Σ)),μ,color=:red,label = \"assets\")"
   ],
   "metadata": {},
   "execution_count": null
  },
  {
   "cell_type": "markdown",
   "source": [
    "We now instead impose a restriction on  $\\sum_i |w_i| - 1$, allowing for varying degrees of \"leverage\"."
   ],
   "metadata": {}
  },
  {
   "outputs": [],
   "cell_type": "code",
   "source": [
    "Lmax = 0.5\n",
    "\n",
    "MeanVarC = zeros(N,2)   #repeat, but with restriction on Sum(|w[i]|)\n",
    "for i = 1:N\n",
    "    λ = λ_vals[i]\n",
    "    p = minimize( λ*risk - (1-λ)*ret,\n",
    "                  sum(w) == 1,\n",
    "                  (norm(w, 1)-1) <= Lmax)\n",
    "    solve!(p, () -> SCS.Optimizer(verbose = false))\n",
    "    MeanVarC[i,:]= [evaluate(ret),evaluate(risk)]\n",
    "end"
   ],
   "metadata": {},
   "execution_count": null
  },
  {
   "outputs": [],
   "cell_type": "code",
   "source": [
    "plot( sqrt.([MeanVarA[:,2] MeanVarB[:,2] MeanVarC[:,2]]),\n",
    "      [MeanVarA[:,1] MeanVarB[:,1] MeanVarC[:,1]],\n",
    "      xlim = (0,0.25),\n",
    "      ylim = (0,0.15),\n",
    "      title = \"Markowitz Efficient Frontier\",\n",
    "      xlabel = \"Standard deviation\",\n",
    "      ylabel = \"Expected return\",\n",
    "      label = [\"no bounds on w\" \"with 0<w<1\" \"restriction on sum(|w|)\"])\n",
    "scatter!(sqrt.(diag(Σ)),μ,color=:red,label = \"assets\")"
   ],
   "metadata": {},
   "execution_count": null
  },
  {
   "cell_type": "markdown",
   "source": [
    "---\n",
    "\n",
    "*This notebook was generated using [Literate.jl](https://github.com/fredrikekre/Literate.jl).*"
   ],
   "metadata": {}
  }
 ],
 "nbformat_minor": 3,
 "metadata": {
  "language_info": {
   "file_extension": ".jl",
   "mimetype": "application/julia",
   "name": "julia",
   "version": "1.0.5"
  },
  "kernelspec": {
   "name": "julia-1.0",
   "display_name": "Julia 1.0.5",
   "language": "julia"
  }
 },
 "nbformat": 4
}
