{
 "cells": [
  {
   "cell_type": "markdown",
   "source": [
    "#  Portfolio Optimization\n",
    "\n",
    "In this problem, we will find the portfolio allocation that minimizes risk while achieving a given expected return $R_\\text{target}$.\n",
    "\n",
    "Suppose that we know the mean returns $\\mu \\in \\mathbf{R}^n$ and the covariance $\\Sigma \\in \\mathbf{R}^{n \\times n}$ of the $n$ assets. We would like to find a portfolio allocation $w \\in \\mathbf{R}^n$, $\\sum_i w_i = 1$, minimizing the *risk* of the portfolio, which we measure as the variance $w^T \\Sigma w$ of the portfolio. The requirement that the portfolio allocation achieve the target expected return can be expressed as $w^T \\mu >= R_\\text{target}$. We suppose further that our portfolio allocation must comply with some lower and upper bounds on the allocation, $w_\\text{lower} \\leq w \\leq w_\\text{upper}$.\n",
    "\n",
    "This problem can be written as\n",
    "\n",
    "$$\n",
    "\\begin{array}{ll}\n",
    "    \\text{minimize}   & w^T \\Sigma w \\\\\n",
    "    \\text{subject to} & w^T \\mu >= R_\\text{target} \\\\\n",
    "                      & \\sum_i w_i = 1 \\\\\n",
    "                      & w_\\text{lower} \\leq w \\leq w_\\text{upper}\n",
    "\\end{array}\n",
    "$$\n",
    "\n",
    "where $w \\in \\mathbf{R}^n$ is our optimization variable."
   ],
   "metadata": {}
  },
  {
   "outputs": [],
   "cell_type": "code",
   "source": [
    "using Convex, SCS\n",
    "\n",
    "# generate problem data\n",
    "μ = [11.5; 9.5; 6]/100          #expected returns\n",
    "Σ  = [166  34  58;              #covariance matrix\n",
    "       34  64   4;\n",
    "       58   4 100]/100^2\n",
    "\n",
    "n = length(μ)                   #number of assets\n",
    "\n",
    "R_target = 0.1\n",
    "w_lower = 0\n",
    "w_upper = 0.5;"
   ],
   "metadata": {},
   "execution_count": null
  },
  {
   "cell_type": "markdown",
   "source": [
    "If you want to try the optimization with more assets, uncomment and run the next cell. It creates a vector or average returns and a variance-covariance matrix that have scales similar to the numbers above."
   ],
   "metadata": {}
  },
  {
   "outputs": [],
   "cell_type": "code",
   "source": [
    "#=\n",
    "using Random\n",
    "Random.seed!(123)\n",
    "\n",
    "n = 15                                      #number of assets, CHANGE IT?\n",
    "\n",
    "μ = (6 .+ (11.5-6)*rand(n))/100             #mean\n",
    "A = randn(n,n)\n",
    "Σ = (A * A' + diagm(0=>rand(n)))/500;       #covariance matrix\n",
    "=#"
   ],
   "metadata": {},
   "execution_count": null
  },
  {
   "outputs": [],
   "cell_type": "code",
   "source": [
    "w    = Variable(n)\n",
    "ret  = dot(w,μ)\n",
    "risk = quadform(w,Σ)\n",
    "\n",
    "p = minimize( risk,\n",
    "              ret >= R_target,\n",
    "              sum(w) == 1,\n",
    "              w_lower <= w,\n",
    "              w <= w_upper )\n",
    "\n",
    "solve!(p, () -> SCS.Optimizer())     #use SCS.Optimizer(verbose = false) to suppress printing"
   ],
   "metadata": {},
   "execution_count": null
  },
  {
   "cell_type": "markdown",
   "source": [
    "Optimal portfolio weights:"
   ],
   "metadata": {}
  },
  {
   "outputs": [],
   "cell_type": "code",
   "source": [
    "evaluate(w)"
   ],
   "metadata": {},
   "execution_count": null
  },
  {
   "outputs": [],
   "cell_type": "code",
   "source": [
    "sum(evaluate(w))"
   ],
   "metadata": {},
   "execution_count": null
  },
  {
   "cell_type": "markdown",
   "source": [
    "---\n",
    "\n",
    "*This notebook was generated using [Literate.jl](https://github.com/fredrikekre/Literate.jl).*"
   ],
   "metadata": {}
  }
 ],
 "nbformat_minor": 3,
 "metadata": {
  "language_info": {
   "file_extension": ".jl",
   "mimetype": "application/julia",
   "name": "julia",
   "version": "1.0.5"
  },
  "kernelspec": {
   "name": "julia-1.0",
   "display_name": "Julia 1.0.5",
   "language": "julia"
  }
 },
 "nbformat": 4
}
