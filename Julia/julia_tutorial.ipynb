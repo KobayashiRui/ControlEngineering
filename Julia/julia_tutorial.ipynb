{
 "cells": [
  {
   "cell_type": "markdown",
   "metadata": {},
   "source": [
    "# Julia入門\n",
    "基本的な記述方法や変数の定義方法など"
   ]
  },
  {
   "cell_type": "markdown",
   "metadata": {},
   "source": [
    "## 文字列系"
   ]
  },
  {
   "cell_type": "markdown",
   "metadata": {},
   "source": [
    "**改行なし文字列出力**"
   ]
  },
  {
   "cell_type": "code",
   "execution_count": 14,
   "metadata": {},
   "outputs": [
    {
     "name": "stdout",
     "output_type": "stream",
     "text": [
      "HelloWorld"
     ]
    }
   ],
   "source": [
    "print(\"Hello\")\n",
    "print(\"World\")"
   ]
  },
  {
   "cell_type": "markdown",
   "metadata": {},
   "source": [
    "**改行あり文字列出力**\n",
    "\n",
    "自動で最後尾に`\\n`を代入してくれる"
   ]
  },
  {
   "cell_type": "code",
   "execution_count": 15,
   "metadata": {},
   "outputs": [
    {
     "name": "stdout",
     "output_type": "stream",
     "text": [
      "Hello\n",
      "World"
     ]
    }
   ],
   "source": [
    "println(\"Hello\")\n",
    "print(\"World\")"
   ]
  },
  {
   "cell_type": "markdown",
   "metadata": {},
   "source": [
    "**全ての文字列を大文字に変換**"
   ]
  },
  {
   "cell_type": "code",
   "execution_count": 18,
   "metadata": {},
   "outputs": [
    {
     "name": "stdout",
     "output_type": "stream",
     "text": [
      "HELLOWORLD"
     ]
    }
   ],
   "source": [
    "print(uppercase(\"HelloWorld\"))"
   ]
  },
  {
   "cell_type": "markdown",
   "metadata": {},
   "source": [
    "**全ての文字列を小文字に変換**"
   ]
  },
  {
   "cell_type": "code",
   "execution_count": 19,
   "metadata": {},
   "outputs": [
    {
     "name": "stdout",
     "output_type": "stream",
     "text": [
      "helloworld"
     ]
    }
   ],
   "source": [
    "print(lowercase(\"HelloWorld\"))"
   ]
  },
  {
   "cell_type": "markdown",
   "metadata": {},
   "source": [
    "**出力文字列の結合**\n",
    "\n",
    "print内で文字列を結合する場合"
   ]
  },
  {
   "cell_type": "code",
   "execution_count": 23,
   "metadata": {},
   "outputs": [
    {
     "name": "stdout",
     "output_type": "stream",
     "text": [
      "HelloWorld\n",
      "HelloWorld\n"
     ]
    }
   ],
   "source": [
    "println(\"Hello\"*\"World\")\n",
    "println(\"Hello\",\"World\")"
   ]
  },
  {
   "cell_type": "markdown",
   "metadata": {},
   "source": [
    "**出力文字列に変数をいれる**\n",
    "\n",
    "`$変数`で文字列の中に変数をいれられる(スペース or `[]`を間にいれないとダメ)  \n",
    "文字列の結合で変数を使うことも可能"
   ]
  },
  {
   "cell_type": "code",
   "execution_count": 28,
   "metadata": {},
   "outputs": [
    {
     "name": "stdout",
     "output_type": "stream",
     "text": [
      "HelloHogeWorld\n",
      "Hello[Hoge]World\n",
      "Hello Hoge World\n"
     ]
    }
   ],
   "source": [
    "str = \"Hoge\"\n",
    "println(\"Hello\",str,\"World\")\n",
    "println(\"Hello[$str]World\")\n",
    "println(\"Hello $str World\")"
   ]
  },
  {
   "cell_type": "markdown",
   "metadata": {},
   "source": [
    "**文字列の中に数値表示**\n",
    "\n",
    "文字連結で使用する`*`は数値では使用できない  \n",
    "→`string()`でString型に変更する"
   ]
  },
  {
   "cell_type": "code",
   "execution_count": 32,
   "metadata": {},
   "outputs": [
    {
     "name": "stdout",
     "output_type": "stream",
     "text": [
      "10\n",
      "x=10\n",
      "x=10\n"
     ]
    }
   ],
   "source": [
    "x = 10\n",
    "println(x)\n",
    "println(\"x=\",x)\n",
    "println(\"x=\" * string(x))"
   ]
  },
  {
   "cell_type": "markdown",
   "metadata": {},
   "source": [
    "**文字列を数値に変換**"
   ]
  },
  {
   "cell_type": "code",
   "execution_count": 35,
   "metadata": {},
   "outputs": [
    {
     "name": "stdout",
     "output_type": "stream",
     "text": [
      "20\n"
     ]
    }
   ],
   "source": [
    "x_str =\"10\"\n",
    "x = parse(Int,x) #Int型に変換\n",
    "println(x+10)"
   ]
  },
  {
   "cell_type": "markdown",
   "metadata": {},
   "source": [
    "## 型について"
   ]
  },
  {
   "cell_type": "markdown",
   "metadata": {},
   "source": [
    "`typeof()`を使用することで型を確認できる  \n",
    "pythonなどのように小数点を記述しないとIntとして処理される"
   ]
  },
  {
   "cell_type": "code",
   "execution_count": 11,
   "metadata": {},
   "outputs": [
    {
     "name": "stdout",
     "output_type": "stream",
     "text": [
      "Int64\n",
      "Float64\n"
     ]
    }
   ],
   "source": [
    "println(typeof(3))\n",
    "println(typeof(3.0))"
   ]
  },
  {
   "cell_type": "markdown",
   "metadata": {},
   "source": [
    "## 計算系"
   ]
  },
  {
   "cell_type": "markdown",
   "metadata": {},
   "source": [
    "**積記号の省略**\n",
    "\n",
    "juliaでは一部の計算式では積の記号`*`を省略可能\n",
    "+ 数字→変数(`2x`)\n",
    "+ 数字→カッコ(`2(x+1)`)\n",
    "+ カッコ→変数(`(x+1)x`)\n",
    "\n",
    "順番も大切なので要注意(変数→数字とかだとエラーになる)\n"
   ]
  },
  {
   "cell_type": "code",
   "execution_count": 5,
   "metadata": {},
   "outputs": [
    {
     "name": "stdout",
     "output_type": "stream",
     "text": [
      "x= 10, y= 5\n",
      "2x= 20\n",
      "2(x+1)=22\n",
      "(x+1)x=110\n"
     ]
    }
   ],
   "source": [
    "x = 10\n",
    "y = 5\n",
    "println(\"x= $x, y= $y\")\n",
    "println(\"2x= \", 2x)\n",
    "println(\"2(x+1)=\", 2(x+1))\n",
    "println(\"(x+1)x=\", (x+1)x)"
   ]
  },
  {
   "cell_type": "markdown",
   "metadata": {},
   "source": [
    "## 構造体について"
   ]
  },
  {
   "cell_type": "markdown",
   "metadata": {},
   "source": [
    "構造体は`struct`を使用して定義できる  \n",
    "最後に`end`を記述する"
   ]
  },
  {
   "cell_type": "code",
   "execution_count": 12,
   "metadata": {},
   "outputs": [],
   "source": [
    "struct TestA\n",
    "    a\n",
    "    b\n",
    "end"
   ]
  },
  {
   "cell_type": "markdown",
   "metadata": {},
   "source": [
    "### 構造体の初期化について"
   ]
  },
  {
   "cell_type": "code",
   "execution_count": 13,
   "metadata": {},
   "outputs": [
    {
     "name": "stdout",
     "output_type": "stream",
     "text": [
      "10\n",
      "2\n"
     ]
    }
   ],
   "source": [
    "testa = TestA(10,2)\n",
    "println(testa.a)\n",
    "println(testa.b)"
   ]
  },
  {
   "cell_type": "code",
   "execution_count": null,
   "metadata": {},
   "outputs": [],
   "source": []
  }
 ],
 "metadata": {
  "kernelspec": {
   "display_name": "Julia 1.5.0",
   "language": "julia",
   "name": "julia-1.5"
  },
  "language_info": {
   "file_extension": ".jl",
   "mimetype": "application/julia",
   "name": "julia",
   "version": "1.5.0"
  }
 },
 "nbformat": 4,
 "nbformat_minor": 4
}
