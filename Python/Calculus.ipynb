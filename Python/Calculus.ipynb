{
 "cells": [
  {
   "cell_type": "markdown",
   "metadata": {},
   "source": [
    "# 微積分"
   ]
  },
  {
   "cell_type": "markdown",
   "metadata": {},
   "source": [
    "## テイラー展開・マクローリン展開\n",
    "式が複雑になりすぎて、厳密な計算をするのが困難\n",
    "→ 近似的な式でいいから、計算をカンタンにする手法\n",
    "\n",
    "### テイラー展開\n",
    "$\n",
    "\\begin{eqnarray}\n",
    "f(x) &=& \\sum ^{\\infty }_{n=0} \\dfrac{f^{(n)}(a)}{n!} {(x - a)}^n \\\\\n",
    "     &=& f(a) + \\dfrac{f'(a)}{1!}(x-a) + \\dfrac{f''(a)}{2!}(x-a)^2 + \\ldots + \\dfrac{f^{(n)}(a)}{n!}(x-a)^n\n",
    "\\end{eqnarray}\n",
    "$\n",
    "\n",
    "### マクローリン展開\n",
    "テイラー展開の$a=0$の場合をマクローリン展開と呼ぶ\n",
    "\n",
    "$\n",
    "\\begin{eqnarray}\n",
    "f(x) &=& \\sum ^{\\infty }_{n=0} \\dfrac{f^{(n)}(0)}{n!} {(x)}^n \\\\\n",
    "     &=& f(0) + \\dfrac{f'(0)}{1!}(x) + \\dfrac{f''(0)}{2!}(x)^2 + \\ldots + \\dfrac{f^{(n)}(0)}{n!}(x)^n\n",
    "\\end{eqnarray}\n",
    "$\n",
    "\n",
    "形式的に無限和が書けたとしても存在するかどうか → 収束するか\n",
    "\n",
    "### 収束半径\n"
   ]
  },
  {
   "cell_type": "code",
   "execution_count": null,
   "metadata": {},
   "outputs": [],
   "source": []
  }
 ],
 "metadata": {
  "kernelspec": {
   "display_name": "Python 3",
   "language": "python",
   "name": "python3"
  },
  "language_info": {
   "codemirror_mode": {
    "name": "ipython",
    "version": 3
   },
   "file_extension": ".py",
   "mimetype": "text/x-python",
   "name": "python",
   "nbconvert_exporter": "python",
   "pygments_lexer": "ipython3",
   "version": "3.8.6"
  }
 },
 "nbformat": 4,
 "nbformat_minor": 4
}
