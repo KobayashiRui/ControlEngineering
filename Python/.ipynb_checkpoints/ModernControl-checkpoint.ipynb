{
 "cells": [
  {
   "cell_type": "markdown",
   "metadata": {},
   "source": [
    "# 現代制御(Modern Control)\n",
    "\n",
    "## 状態空間表現\n",
    "$\n",
    "\\begin{cases}\n",
    "\\dot{x}(t)=Ax(t)+Bu(t) \\\\ \n",
    "y(t)=Cx(t)+Du(t)\n",
    "\\end{cases}\n",
    "$\n",
    "\n",
    "$x(t)$:状態変数ベクトル(状態ベクトル), $u(t)$:入力ベクトル, $y(t)$:出力ベクトル  \n",
    "$A$:システム行列(状態行列), $B$:入力係数行列(入力行\n",
    "列), $C$:出力変数ベクトル(出力行列), $D$:直達行列\n",
    "\n",
    "※直達行列$D$は基本0なので基本的に出力方程式は$y(t)=Cx(t)$\n",
    "\n",
    "状態方程式 = 1階の常微分方程式  \n",
    "→ 行列を用いることで高階の微分方程式も統一した方法で表現可能\n",
    "\n",
    "\n",
    "### 使用するライブラリ\n",
    "[Python Control Systems Library](https://python-control.readthedocs.io/en/0.8.3/)\n",
    "\n",
    "### 参考\n",
    "+ [状態方程式の解](http://ysserve.wakasato.jp/Lecture/ControlMecha2/node15.html)"
   ]
  },
  {
   "cell_type": "code",
   "execution_count": 3,
   "metadata": {
    "scrolled": true
   },
   "outputs": [],
   "source": [
    "from control.matlab import *\n",
    "import control\n",
    "import numpy as np\n",
    "import sympy\n",
    "from sympy import symbols, Symbol, var, init_printing, integrate, Matrix\n",
    "import matplotlib.pyplot as plt\n",
    "init_printing()"
   ]
  },
  {
   "cell_type": "markdown",
   "metadata": {},
   "source": [
    "## 状態遷移行列\n",
    "状態遷移行列は下記の式で表される  \n",
    "$\n",
    "e^{At}\n",
    "$  \n",
    "$A$:状態行列, t:時間\n",
    "\n",
    "ラプラス変換を用いる場合は下記の等式が成立する  \n",
    "$\n",
    "e^{At} = \\mathcal{L}^{-1}[(sI-A)^{-1}]\n",
    "$"
   ]
  },
  {
   "cell_type": "code",
   "execution_count": 3,
   "metadata": {},
   "outputs": [
    {
     "data": {
      "text/latex": [
       "$\\displaystyle \\left[\\begin{matrix}\\frac{5 e^{- t}}{4} - \\frac{e^{- 5 t}}{4} & \\frac{e^{- t}}{4} - \\frac{e^{- 5 t}}{4}\\\\- \\frac{5 e^{- t}}{4} + \\frac{5 e^{- 5 t}}{4} & - \\frac{e^{- t}}{4} + \\frac{5 e^{- 5 t}}{4}\\end{matrix}\\right]$"
      ],
      "text/plain": [
       "⎡     -t    -5⋅t       -t    -5⋅t  ⎤\n",
       "⎢  5⋅ℯ     ℯ          ℯ     ℯ      ⎥\n",
       "⎢  ───── - ─────      ─── - ─────  ⎥\n",
       "⎢    4       4         4      4    ⎥\n",
       "⎢                                  ⎥\n",
       "⎢     -t      -5⋅t     -t      -5⋅t⎥\n",
       "⎢  5⋅ℯ     5⋅ℯ        ℯ     5⋅ℯ    ⎥\n",
       "⎢- ───── + ───────  - ─── + ───────⎥\n",
       "⎣    4        4        4       4   ⎦"
      ]
     },
     "execution_count": 3,
     "metadata": {},
     "output_type": "execute_result"
    }
   ],
   "source": [
    "A = sympy.Matrix([[0, 1], [-5, -6]])\n",
    "t = sympy.var('t')\n",
    "sympy.exp(A*t)"
   ]
  },
  {
   "cell_type": "markdown",
   "metadata": {},
   "source": [
    "## 状態方程式の一般解\n",
    "$\n",
    "x(t) = e^{At}x_0 + \\int_0^t e^{A(t-\\tau)}Bu(\\tau)d\\tau\n",
    "$\n",
    "### n次システムの時間応答(任意の入力$u(t)$,任意の初期値$x_0$)\n",
    "$\n",
    "x(t) = e^{At}x_0 + \\int_0^t e^{A(t-\\tau)}Bu(\\tau)d\\tau\n",
    "$"
   ]
  },
  {
   "cell_type": "code",
   "execution_count": 4,
   "metadata": {},
   "outputs": [
    {
     "data": {
      "text/latex": [
       "$\\displaystyle \\left[\\begin{matrix}\\frac{1}{5} + \\frac{9 e^{- t}}{4} - \\frac{9 e^{- 5 t}}{20}\\\\- \\frac{9 e^{- t}}{4} + \\frac{9 e^{- 5 t}}{4}\\end{matrix}\\right]$"
      ],
      "text/plain": [
       "⎡       -t      -5⋅t⎤\n",
       "⎢1   9⋅ℯ     9⋅ℯ    ⎥\n",
       "⎢─ + ───── - ───────⎥\n",
       "⎢5     4        20  ⎥\n",
       "⎢                   ⎥\n",
       "⎢      -t      -5⋅t ⎥\n",
       "⎢   9⋅ℯ     9⋅ℯ     ⎥\n",
       "⎢ - ───── + ─────── ⎥\n",
       "⎣     4        4    ⎦"
      ]
     },
     "metadata": {},
     "output_type": "display_data"
    }
   ],
   "source": [
    "A = sympy.Matrix([[0, 1], [-5, -6]])\n",
    "B = sympy.Matrix([0,1])\n",
    "x0 = sympy.Matrix([2,0])\n",
    "sympy.var('T')\n",
    "t = sympy.var('t')\n",
    "\n",
    "#状態遷移行列を求める\n",
    "eat = sympy.exp(A*t)\n",
    "eat_int = sympy.exp(A*(t-T))\n",
    "\n",
    "result1 = eat*x0\n",
    "\n",
    "result2 = integrate(eat_int*B, (T,0,t))\n",
    "\n",
    "display(result1 + result2)"
   ]
  },
  {
   "cell_type": "markdown",
   "metadata": {},
   "source": [
    "### 時間応答シミュレーション"
   ]
  },
  {
   "cell_type": "code",
   "execution_count": 6,
   "metadata": {},
   "outputs": [
    {
     "name": "stdout",
     "output_type": "stream",
     "text": [
      "A = [[ 0.  1.]\n",
      " [-5. -6.]]\n",
      "\n",
      "B = [[0.]\n",
      " [1.]]\n",
      "\n",
      "C = [[1. 0.]]\n",
      "\n",
      "D = [[0.]]\n",
      "\n",
      "[2.         1.98041274 1.93140293 1.8641393  1.78630026 1.7031245\n",
      " 1.61814802 1.5337209  1.45136956 1.37205047 1.29632777 1.22449747\n",
      " 1.15667408 1.09285108 1.03294286 0.97681386 0.92429851 0.87521507\n",
      " 0.82937482 0.78658839 0.74666979 0.70943901 0.67472367 0.64235983\n",
      " 0.61219243 0.58407536 0.55787136 0.53345171 0.51069595 0.48949141\n",
      " 0.46973286 0.45132205 0.43416729 0.41818307 0.40328964 0.38941265\n",
      " 0.37648279 0.36443546 0.35321046 0.34275166 0.3330068  0.32392713\n",
      " 0.31546727 0.30758491 0.30024063 0.2933977  0.2870219  0.28108134\n",
      " 0.27554631 0.27038913 0.265584   0.2611069  0.25693543 0.25304872\n",
      " 0.24942734 0.24605317 0.24290934 0.23998012 0.23725087 0.23470793\n",
      " 0.23233859 0.23013099 0.22807409 0.22615761 0.22437195 0.2227082\n",
      " 0.22115802 0.21971366 0.2183679  0.21711401 0.21594572 0.21485718\n",
      " 0.21384295 0.21289796 0.21201748 0.2111971  0.21043273 0.20972054\n",
      " 0.20905696 0.20843869 0.20786262 0.20732588 0.20682577 0.20635981\n",
      " 0.20592566 0.20552114 0.20514424 0.20479307 0.20446587 0.204161\n",
      " 0.20387695 0.20361229 0.2033657  0.20313594 0.20292186 0.2027224\n",
      " 0.20253655 0.2023634  0.20220206 0.20205173]\n"
     ]
    }
   ],
   "source": [
    "A = \"0 1;-5 -6\"\n",
    "B = \"0;1\"\n",
    "C = \"1 0\"\n",
    "D = \"0\"\n",
    "sys = ss(A,B,C,D)\n",
    "print(sys)\n",
    "result = step(sys,X0=[2,0],input=1)\n",
    "print(result[0])"
   ]
  },
  {
   "cell_type": "markdown",
   "metadata": {},
   "source": [
    "## 安定判別\n",
    "A(状態行列)の固有値の実部が全て負の場合→漸近安定=発散しないで収束する\n",
    "\n",
    "[代数的重複度と幾何学的重複度について](http://www.akita-pu.ac.jp/system/elect/ins/kusakari/japanese/teaching/Old/LinearAlgebra/2005/note/10/Slide65.html)"
   ]
  },
  {
   "cell_type": "markdown",
   "metadata": {},
   "source": [
    "\n",
    "\n",
    "## sympyによる固有値及び固有ベクトル\n",
    "\n",
    "### eigenvals()の結果の意味\n",
    "$\n",
    "\\{-2:1, 3:1, 5:2\\}\n",
    "$\n",
    "\n",
    "→ 固有値は-2,3,5  \n",
    "→ 固有値の隣の`:1`や`:2`は代数的重複度(重複の数)  \n",
    "↓  \n",
    "`{固有値:代数的重複度, }`\n",
    "\n",
    "### eigenvects()の結果の意味  \n",
    "$\n",
    "\\begin{bmatrix}\n",
    "\\begin{pmatrix}\n",
    "5, &\n",
    "2, &\n",
    "\\begin{bmatrix}\n",
    "    \\begin{bmatrix} 1 \\\\ 1 \\\\ 1 \\\\ 0 \\end{bmatrix}, \n",
    "    \\begin{bmatrix} 0 \\\\ -1 \\\\ 0 \\\\ 1 \\end{bmatrix}  \n",
    "\\end{bmatrix}\n",
    "\\end{pmatrix}\n",
    "\\end{bmatrix}\n",
    "$\n",
    "\n",
    "→ 固有値は5  \n",
    "→ 固有値の隣2は幾何学的重複度  \n",
    "→ 一番右が固有ベクトル  \n",
    "↓  \n",
    "`{(固有値, 幾何学的重複度, 固有ベクトル),}`  \n",
    "`(eigenvalue:algebraic multiplicity, [eigenvectors])`"
   ]
  },
  {
   "cell_type": "code",
   "execution_count": 51,
   "metadata": {
    "scrolled": true
   },
   "outputs": [
    {
     "data": {
      "image/png": "[encoded data removed]",
      "text/latex": [
       "$\\displaystyle \\left\\{ -5 : 1, \\  -1 : 1\\right\\}$"
      ],
      "text/plain": [
       "{-5: 1, -1: 1}"
      ]
     },
     "metadata": {},
     "output_type": "display_data"
    },
    {
     "data": {
      "text/latex": [
       "$\\displaystyle \\left[ \\left( -5, \\  1, \\  \\left[ \\left[\\begin{matrix}- \\frac{1}{5}\\\\1\\end{matrix}\\right]\\right]\\right), \\  \\left( -1, \\  1, \\  \\left[ \\left[\\begin{matrix}-1\\\\1\\end{matrix}\\right]\\right]\\right)\\right]$"
      ],
      "text/plain": [
       "⎡⎛       ⎡⎡-1/5⎤⎤⎞  ⎛       ⎡⎡-1⎤⎤⎞⎤\n",
       "⎢⎜-5, 1, ⎢⎢    ⎥⎥⎟, ⎜-1, 1, ⎢⎢  ⎥⎥⎟⎥\n",
       "⎣⎝       ⎣⎣ 1  ⎦⎦⎠  ⎝       ⎣⎣1 ⎦⎦⎠⎦"
      ]
     },
     "metadata": {},
     "output_type": "display_data"
    }
   ],
   "source": [
    "A = sympy.Matrix([[0, 1], [-5, -6]])\n",
    "t = sympy.var('t')\n",
    "result = A.eigenvals()\n",
    "result2 = A.eigenvects()\n",
    "display(result)\n",
    "display(result2)"
   ]
  },
  {
   "cell_type": "markdown",
   "metadata": {},
   "source": [
    "## 可制御性\n",
    "\n",
    "可制御性行列(Controllabilty matrix)  \n",
    "$\n",
    "V_c = \\begin{bmatrix}B & AB & \\ldots & A^{n-1}B \\end{bmatrix}\n",
    "$\n",
    "\n",
    "可制御性行列が正則なときに可制御となる → 行列式が0でない → $|V_c|\\neq0$"
   ]
  },
  {
   "cell_type": "code",
   "execution_count": 25,
   "metadata": {},
   "outputs": [
    {
     "name": "stdout",
     "output_type": "stream",
     "text": [
      "可制御性行列のランク : 2\n",
      "可制御性行列の行列式 : -1.0\n"
     ]
    }
   ],
   "source": [
    "A = np.matrix([[0, 1],[-5,-6]])\n",
    "B = np.matrix([[0],[1]])\n",
    "ControllabiltyMatrix = control.ctrb(A,B)\n",
    "print(\"可制御性行列のランク : \" + str(np.linalg.matrix_rank(ControllabiltyMatrix)))\n",
    "print(\"可制御性行列の行列式 : \" + str(np.linalg.det(ControllabiltyMatrix)))"
   ]
  },
  {
   "cell_type": "markdown",
   "metadata": {},
   "source": [
    "## 可観測性\n",
    "\n",
    "可観測性行列(Observability matrix)  \n",
    "$\n",
    "V_o =\\begin{bmatrix}C \\\\CA \\\\\\vdots\\\\CA^{n-1}\\end{bmatrix}\n",
    "$\n",
    "\n",
    "可観測性行列が正則なときに可観測 → 行列式が0でない → $|V_o|\\neq0$"
   ]
  },
  {
   "cell_type": "code",
   "execution_count": 27,
   "metadata": {},
   "outputs": [
    {
     "name": "stdout",
     "output_type": "stream",
     "text": [
      "可観測性行列のランク : 2\n",
      "可観測性行列の行列式 : 1.0\n"
     ]
    }
   ],
   "source": [
    "A = np.matrix([[0, 1],[-5,-6]])\n",
    "B = np.matrix([[0],[1]])\n",
    "ObservabilityMatrix = control.obsv(A,C)\n",
    "print(\"可観測性行列のランク : \" + str(np.linalg.matrix_rank(ObservabilityMatrix)))\n",
    "print(\"可観測性行列の行列式 : \" + str(np.linalg.det(ObservabilityMatrix)))"
   ]
  },
  {
   "cell_type": "markdown",
   "metadata": {},
   "source": [
    "## 座標変換・対角正準形\n",
    "行列Aの固有値を$\\lambda_1,\\lambda_2,\\ldots, \\lambda_n $,  \n",
    "対応する固有ベクトルを$v_1, v_2, \\ldots, v_n$  \n",
    "固有値は全て相異とする  \n",
    "このとき座標変換行列として\n",
    "\n",
    "$T = \\begin{bmatrix} v_1 & v_2 & \\cdots & v_n \\end{bmatrix}$\n",
    "\n",
    "$x(t) = Tz(t)$で座標変換\n",
    "\n",
    "$\n",
    "\\dot{z}(t) = \\tilde{A}z(t)+\\tilde{B}u(t) \\\\\n",
    "y(t) = \\tilde{C}z(t)\n",
    "$\n",
    "\n",
    "$\n",
    "\\tilde{A} = T^{-1}AT,\\ \\tilde{B}=T^{-1}B,\\ \\tilde{C}=CT \n",
    "$\n",
    "\n",
    "### 対角正準形による可制御・可観測\n",
    "+ $\\tilde{B}$に0となる要素がない→可制御\n",
    "+ $\\tilde{C}$に0となる要素がない→可観測\n"
   ]
  },
  {
   "cell_type": "code",
   "execution_count": 11,
   "metadata": {},
   "outputs": [
    {
     "data": {
      "text/latex": [
       "$\\displaystyle \\left[\\begin{matrix}0 & 1\\\\-5 & -6\\end{matrix}\\right]$"
      ],
      "text/plain": [
       "⎡0   1 ⎤\n",
       "⎢      ⎥\n",
       "⎣-5  -6⎦"
      ]
     },
     "metadata": {},
     "output_type": "display_data"
    },
    {
     "data": {
      "text/latex": [
       "$\\displaystyle \\left[\\begin{matrix}0\\\\1\\end{matrix}\\right]$"
      ],
      "text/plain": [
       "⎡0⎤\n",
       "⎢ ⎥\n",
       "⎣1⎦"
      ]
     },
     "metadata": {},
     "output_type": "display_data"
    },
    {
     "data": {
      "text/latex": [
       "$\\displaystyle \\left[\\begin{matrix}1 & 0\\end{matrix}\\right]$"
      ],
      "text/plain": [
       "[1  0]"
      ]
     },
     "metadata": {},
     "output_type": "display_data"
    },
    {
     "data": {
      "text/plain": [
       "'固有ベクトル'"
      ]
     },
     "metadata": {},
     "output_type": "display_data"
    },
    {
     "data": {
      "text/latex": [
       "$\\displaystyle \\left[ \\left( -5, \\  1, \\  \\left[ \\left[\\begin{matrix}- \\frac{1}{5}\\\\1\\end{matrix}\\right]\\right]\\right), \\  \\left( -1, \\  1, \\  \\left[ \\left[\\begin{matrix}-1\\\\1\\end{matrix}\\right]\\right]\\right)\\right]$"
      ],
      "text/plain": [
       "⎡⎛       ⎡⎡-1/5⎤⎤⎞  ⎛       ⎡⎡-1⎤⎤⎞⎤\n",
       "⎢⎜-5, 1, ⎢⎢    ⎥⎥⎟, ⎜-1, 1, ⎢⎢  ⎥⎥⎟⎥\n",
       "⎣⎝       ⎣⎣ 1  ⎦⎦⎠  ⎝       ⎣⎣1 ⎦⎦⎠⎦"
      ]
     },
     "metadata": {},
     "output_type": "display_data"
    },
    {
     "data": {
      "text/plain": [
       "'変換行列'"
      ]
     },
     "metadata": {},
     "output_type": "display_data"
    },
    {
     "data": {
      "text/latex": [
       "$\\displaystyle \\left[\\begin{matrix}-1 & -1\\\\5 & 1\\end{matrix}\\right]$"
      ],
      "text/plain": [
       "⎡-1  -1⎤\n",
       "⎢      ⎥\n",
       "⎣5   1 ⎦"
      ]
     },
     "metadata": {},
     "output_type": "display_data"
    },
    {
     "data": {
      "text/plain": [
       "'変換行列の逆行列'"
      ]
     },
     "metadata": {},
     "output_type": "display_data"
    },
    {
     "data": {
      "text/latex": [
       "$\\displaystyle \\left[\\begin{matrix}\\frac{1}{4} & \\frac{1}{4}\\\\- \\frac{5}{4} & - \\frac{1}{4}\\end{matrix}\\right]$"
      ],
      "text/plain": [
       "⎡1/4   1/4 ⎤\n",
       "⎢          ⎥\n",
       "⎣-5/4  -1/4⎦"
      ]
     },
     "metadata": {},
     "output_type": "display_data"
    },
    {
     "data": {
      "text/plain": [
       "'対角行列'"
      ]
     },
     "metadata": {},
     "output_type": "display_data"
    },
    {
     "data": {
      "text/latex": [
       "$\\displaystyle \\left[\\begin{matrix}-5 & 0\\\\0 & -1\\end{matrix}\\right]$"
      ],
      "text/plain": [
       "⎡-5  0 ⎤\n",
       "⎢      ⎥\n",
       "⎣0   -1⎦"
      ]
     },
     "metadata": {},
     "output_type": "display_data"
    },
    {
     "data": {
      "text/plain": [
       "\"A'\""
      ]
     },
     "metadata": {},
     "output_type": "display_data"
    },
    {
     "data": {
      "text/latex": [
       "$\\displaystyle \\left[\\begin{matrix}-5 & 0\\\\0 & -1\\end{matrix}\\right]$"
      ],
      "text/plain": [
       "⎡-5  0 ⎤\n",
       "⎢      ⎥\n",
       "⎣0   -1⎦"
      ]
     },
     "metadata": {},
     "output_type": "display_data"
    },
    {
     "data": {
      "text/plain": [
       "\"B'\""
      ]
     },
     "metadata": {},
     "output_type": "display_data"
    },
    {
     "data": {
      "text/latex": [
       "$\\displaystyle \\left[\\begin{matrix}\\frac{1}{4}\\\\- \\frac{1}{4}\\end{matrix}\\right]$"
      ],
      "text/plain": [
       "⎡1/4 ⎤\n",
       "⎢    ⎥\n",
       "⎣-1/4⎦"
      ]
     },
     "metadata": {},
     "output_type": "display_data"
    },
    {
     "data": {
      "text/plain": [
       "\"C'\""
      ]
     },
     "metadata": {},
     "output_type": "display_data"
    },
    {
     "data": {
      "text/latex": [
       "$\\displaystyle \\left[\\begin{matrix}-1 & -1\\end{matrix}\\right]$"
      ],
      "text/plain": [
       "[-1  -1]"
      ]
     },
     "metadata": {},
     "output_type": "display_data"
    }
   ],
   "source": [
    "A = sympy.Matrix([[0,1],[-5,-6]])\n",
    "B = sympy.Matrix([[0],[1]])\n",
    "C = sympy.Matrix([[1,0]])\n",
    "\n",
    "#対角化\n",
    "P,D = A.diagonalize() #P:変換行列, D:対角化後のA行列\n",
    "display(\"変換行列\",P, \"変換行列の逆行列\", P**-1, \"対角行列\",D)\n",
    "A_dash = (P**-1) * A * (P)\n",
    "B_dash = (P**-1) * B\n",
    "C_dash = C * P\n",
    "display(\"A'\",A_dash,\"B'\",B_dash, \"C'\",C_dash)"
   ]
  },
  {
   "cell_type": "markdown",
   "metadata": {},
   "source": [
    "## 閉ループ系\n",
    "閉ループ系でやっていることを数学的に  \n",
    "固有値が特性を決める→固有値を変える操作をする→任意の特性にする！"
   ]
  },
  {
   "cell_type": "markdown",
   "metadata": {},
   "source": [
    "## 極配置法\n",
    "\n",
    "## アッカーマン法"
   ]
  },
  {
   "cell_type": "markdown",
   "metadata": {},
   "source": [
    "## 最適レギュレータ(LQR)\n",
    "$\n",
    "\\begin{cases}\n",
    "\\dot{x}(t)=Ax(t)+Bu(t) \\\\ \n",
    "y(t)=Cx(t)+Du(t)\n",
    "\\end{cases}\n",
    "$\n",
    "\n",
    "### スカラの評価関数\n",
    "$\n",
    "J = \\dfrac{1}{2}  \\int_0^\\infty \\{x^T(t) Q x(t) + u^T(t)Ru(t)\\}dt\n",
    "$\n",
    "\n",
    "Qは$n \\times n$半正定対称行列, Rは$m \\times m$正定対称行列\n",
    "\n",
    "\n",
    "評価関数を最小にする制御は下記の状態フィードバック制御として与えられる\n",
    "\n",
    "$\n",
    "u(t) = -Fx(t) = -R^{-1}B^TPx(t)\n",
    "$\n",
    "\n",
    "### リカッチ代数方程式\n",
    "上記の状態フィードバック制御の$P$をリカッチ代数方程式と呼ぶ\n",
    "\n",
    "$\n",
    "A^T P + PA + Q - PBR^{-1}B^TP = 0\n",
    "$\n",
    "\n",
    "リカッチ代数方程式は上記の式を満たし, $n \\times n$正定対称行列"
   ]
  },
  {
   "cell_type": "code",
   "execution_count": 4,
   "metadata": {},
   "outputs": [
    {
     "data": {
      "text/latex": [
       "$\\displaystyle \\left[\\begin{matrix}- 5 p_{12} & - 5 p_{22}\\\\p_{11} - 6 p_{12} & p_{12} - 6 p_{22}\\end{matrix}\\right]$"
      ],
      "text/plain": [
       "⎡  -5⋅p₁₂       -5⋅p₂₂   ⎤\n",
       "⎢                        ⎥\n",
       "⎣p₁₁ - 6⋅p₁₂  p₁₂ - 6⋅p₂₂⎦"
      ]
     },
     "metadata": {},
     "output_type": "display_data"
    },
    {
     "data": {
      "text/latex": [
       "$\\displaystyle \\left[\\begin{matrix}- 5 p_{12} & p_{11} - 6 p_{12}\\\\- 5 p_{22} & p_{12} - 6 p_{22}\\end{matrix}\\right]$"
      ],
      "text/plain": [
       "⎡-5⋅p₁₂  p₁₁ - 6⋅p₁₂⎤\n",
       "⎢                   ⎥\n",
       "⎣-5⋅p₂₂  p₁₂ - 6⋅p₂₂⎦"
      ]
     },
     "metadata": {},
     "output_type": "display_data"
    },
    {
     "data": {
      "text/latex": [
       "$\\displaystyle \\left[\\begin{matrix}10 - p_{12}^{2} & - p_{12} p_{22}\\\\- p_{12} p_{22} & 1 - p_{22}^{2}\\end{matrix}\\right]$"
      ],
      "text/plain": [
       "⎡        2          ⎤\n",
       "⎢10 - p₁₂   -p₁₂⋅p₂₂⎥\n",
       "⎢                   ⎥\n",
       "⎢                  2⎥\n",
       "⎣-p₁₂⋅p₂₂   1 - p₂₂ ⎦"
      ]
     },
     "metadata": {},
     "output_type": "display_data"
    },
    {
     "data": {
      "text/latex": [
       "$\\displaystyle \\left[\\begin{matrix}- p_{12}^{2} - 10 p_{12} + 10 & p_{11} - p_{12} p_{22} - 6 p_{12} - 5 p_{22}\\\\p_{11} - p_{12} p_{22} - 6 p_{12} - 5 p_{22} & 2 p_{12} - p_{22}^{2} - 12 p_{22} + 1\\end{matrix}\\right]$"
      ],
      "text/plain": [
       "⎡         2                                                  ⎤\n",
       "⎢    - p₁₂  - 10⋅p₁₂ + 10       p₁₁ - p₁₂⋅p₂₂ - 6⋅p₁₂ - 5⋅p₂₂⎥\n",
       "⎢                                                            ⎥\n",
       "⎢                                            2               ⎥\n",
       "⎣p₁₁ - p₁₂⋅p₂₂ - 6⋅p₁₂ - 5⋅p₂₂    2⋅p₁₂ - p₂₂  - 12⋅p₂₂ + 1  ⎦"
      ]
     },
     "metadata": {},
     "output_type": "display_data"
    }
   ],
   "source": [
    "A = sympy.Matrix([[0,1],[-5,-6]])\n",
    "B = sympy.Matrix([[0],[1]])\n",
    "Q = sympy.Matrix([[10,0],[0,1]])\n",
    "R = sympy.Matrix([[1]])\n",
    "p11,p12,p22=symbols('p11 p12 p22')\n",
    "P = sympy.Matrix([[p11,p12],[p12,p22]])\n",
    "result0 = A.transpose()*P\n",
    "result1  = P * A\n",
    "result2 = Q - (P * B * R.inv() * B.transpose() * P)\n",
    "display(result0)\n",
    "display(result1)\n",
    "display(result2)\n",
    "result3 = result0 + result1 + result2\n",
    "display(result3)\n"
   ]
  },
  {
   "cell_type": "code",
   "execution_count": 5,
   "metadata": {},
   "outputs": [
    {
     "data": {
      "image/png": "[encoded data removed]",
      "text/latex": [
       "$\\displaystyle -10.916079783099615$"
      ],
      "text/plain": [
       "-10.916079783099615"
      ]
     },
     "metadata": {},
     "output_type": "display_data"
    },
    {
     "data": {
      "image/png": "[encoded data removed]",
      "text/latex": [
       "$\\displaystyle \\left[ -6 - \\sqrt{27 - 2 \\sqrt{35}}, \\  -6 + \\sqrt{27 - 2 \\sqrt{35}}\\right]$"
      ],
      "text/plain": [
       "⎡       ____________         ____________⎤\n",
       "⎣-6 - ╲╱ 27 - 2⋅√35 , -6 + ╲╱ 27 - 2⋅√35 ⎦"
      ]
     },
     "metadata": {},
     "output_type": "display_data"
    },
    {
     "data": {
      "image/png": "[encoded data removed]",
      "text/latex": [
       "$\\displaystyle -2.105408823278011$"
      ],
      "text/plain": [
       "-2.105408823278011"
      ]
     },
     "metadata": {},
     "output_type": "display_data"
    },
    {
     "data": {
      "image/png": "[encoded data removed]",
      "text/latex": [
       "$\\displaystyle -53.040712124043104$"
      ],
      "text/plain": [
       "-53.040712124043104"
      ]
     },
     "metadata": {},
     "output_type": "display_data"
    }
   ],
   "source": [
    "result4 = sympy.solve(result3[0,0],p12)\n",
    "display(float(result4[1]))\n",
    "result5 = sympy.solve(result3[1,1].subs(p12,result4[1]),p22)\n",
    "display(result5)\n",
    "display(float(result5[1]))\n",
    "result6 = result3[0,1].subs([(p12,result4[1]),(p22,result5[1])])\n",
    "display(float(sympy.solve(result6,p11)[0]))"
   ]
  },
  {
   "cell_type": "markdown",
   "metadata": {},
   "source": [
    "### pyControlを使用したLQR"
   ]
  },
  {
   "cell_type": "code",
   "execution_count": 6,
   "metadata": {},
   "outputs": [
    {
     "ename": "ControlSlycot",
     "evalue": "can't find slycot module 'sb02md' or 'sb02nt'",
     "output_type": "error",
     "traceback": [
      "\u001b[0;31m---------------------------------------------------------------------------\u001b[0m",
      "\u001b[0;31mModuleNotFoundError\u001b[0m                       Traceback (most recent call last)",
      "\u001b[0;32m/usr/local/lib/python3.8/site-packages/control/statefbk.py\u001b[0m in \u001b[0;36mlqr\u001b[0;34m(*args, **keywords)\u001b[0m\n\u001b[1;32m    388\u001b[0m     \u001b[0;32mtry\u001b[0m\u001b[0;34m:\u001b[0m\u001b[0;34m\u001b[0m\u001b[0;34m\u001b[0m\u001b[0m\n\u001b[0;32m--> 389\u001b[0;31m         \u001b[0;32mfrom\u001b[0m \u001b[0mslycot\u001b[0m \u001b[0;32mimport\u001b[0m \u001b[0msb02md\u001b[0m\u001b[0;34m\u001b[0m\u001b[0;34m\u001b[0m\u001b[0m\n\u001b[0m\u001b[1;32m    390\u001b[0m         \u001b[0;32mfrom\u001b[0m \u001b[0mslycot\u001b[0m \u001b[0;32mimport\u001b[0m \u001b[0msb02mt\u001b[0m\u001b[0;34m\u001b[0m\u001b[0;34m\u001b[0m\u001b[0m\n",
      "\u001b[0;31mModuleNotFoundError\u001b[0m: No module named 'slycot'",
      "\nDuring handling of the above exception, another exception occurred:\n",
      "\u001b[0;31mControlSlycot\u001b[0m                             Traceback (most recent call last)",
      "\u001b[0;32m<ipython-input-6-c1fcd4b06c38>\u001b[0m in \u001b[0;36m<module>\u001b[0;34m\u001b[0m\n\u001b[1;32m      4\u001b[0m \u001b[0mR\u001b[0m \u001b[0;34m=\u001b[0m \u001b[0msympy\u001b[0m\u001b[0;34m.\u001b[0m\u001b[0mMatrix\u001b[0m\u001b[0;34m(\u001b[0m\u001b[0;34m[\u001b[0m\u001b[0;34m[\u001b[0m\u001b[0;36m1\u001b[0m\u001b[0;34m]\u001b[0m\u001b[0;34m]\u001b[0m\u001b[0;34m)\u001b[0m\u001b[0;34m\u001b[0m\u001b[0;34m\u001b[0m\u001b[0m\n\u001b[1;32m      5\u001b[0m \u001b[0;34m\u001b[0m\u001b[0m\n\u001b[0;32m----> 6\u001b[0;31m \u001b[0mK\u001b[0m\u001b[0;34m,\u001b[0m\u001b[0mS\u001b[0m\u001b[0;34m,\u001b[0m\u001b[0mE\u001b[0m \u001b[0;34m=\u001b[0m \u001b[0mcontrol\u001b[0m\u001b[0;34m.\u001b[0m\u001b[0mlqr\u001b[0m\u001b[0;34m(\u001b[0m\u001b[0mA\u001b[0m\u001b[0;34m,\u001b[0m\u001b[0mB\u001b[0m\u001b[0;34m,\u001b[0m\u001b[0mQ\u001b[0m\u001b[0;34m,\u001b[0m\u001b[0mR\u001b[0m\u001b[0;34m)\u001b[0m\u001b[0;34m\u001b[0m\u001b[0;34m\u001b[0m\u001b[0m\n\u001b[0m\u001b[1;32m      7\u001b[0m \u001b[0mdisplay\u001b[0m\u001b[0;34m(\u001b[0m\u001b[0mK\u001b[0m\u001b[0;34m,\u001b[0m\u001b[0mS\u001b[0m\u001b[0;34m,\u001b[0m\u001b[0mE\u001b[0m\u001b[0;34m)\u001b[0m\u001b[0;34m\u001b[0m\u001b[0;34m\u001b[0m\u001b[0m\n",
      "\u001b[0;32m/usr/local/lib/python3.8/site-packages/control/statefbk.py\u001b[0m in \u001b[0;36mlqr\u001b[0;34m(*args, **keywords)\u001b[0m\n\u001b[1;32m    390\u001b[0m         \u001b[0;32mfrom\u001b[0m \u001b[0mslycot\u001b[0m \u001b[0;32mimport\u001b[0m \u001b[0msb02mt\u001b[0m\u001b[0;34m\u001b[0m\u001b[0;34m\u001b[0m\u001b[0m\n\u001b[1;32m    391\u001b[0m     \u001b[0;32mexcept\u001b[0m \u001b[0mImportError\u001b[0m\u001b[0;34m:\u001b[0m\u001b[0;34m\u001b[0m\u001b[0;34m\u001b[0m\u001b[0m\n\u001b[0;32m--> 392\u001b[0;31m         \u001b[0;32mraise\u001b[0m \u001b[0mControlSlycot\u001b[0m\u001b[0;34m(\u001b[0m\u001b[0;34m\"can't find slycot module 'sb02md' or 'sb02nt'\"\u001b[0m\u001b[0;34m)\u001b[0m\u001b[0;34m\u001b[0m\u001b[0;34m\u001b[0m\u001b[0m\n\u001b[0m\u001b[1;32m    393\u001b[0m \u001b[0;34m\u001b[0m\u001b[0m\n\u001b[1;32m    394\u001b[0m     \u001b[0;31m#\u001b[0m\u001b[0;34m\u001b[0m\u001b[0;34m\u001b[0m\u001b[0;34m\u001b[0m\u001b[0m\n",
      "\u001b[0;31mControlSlycot\u001b[0m: can't find slycot module 'sb02md' or 'sb02nt'"
     ]
    }
   ],
   "source": [
    "A = sympy.Matrix([[0,1],[-5,-6]])\n",
    "B = sympy.Matrix([[0],[1]])\n",
    "Q = sympy.Matrix([[10,0],[0,1]])\n",
    "R = sympy.Matrix([[1]])\n",
    "\n",
    "K,S,E = control.lqr(A,B,Q,R)\n",
    "display(K,S,E)"
   ]
  },
  {
   "cell_type": "code",
   "execution_count": 39,
   "metadata": {},
   "outputs": [
    {
     "data": {
      "image/png": "[encoded data removed]",
      "text/plain": [
       "<Figure size 432x288 with 1 Axes>"
      ]
     },
     "metadata": {
      "needs_background": "light"
     },
     "output_type": "display_data"
    }
   ],
   "source": [
    "# 時間応答\n",
    "Q_map = [\n",
    "    Matrix([[1,0],[0,1]]),\n",
    "    Matrix([[300,0],[0,1]]),\n",
    "    Matrix([[500,0],[0,3]])]\n",
    "\n",
    "R_map = [\n",
    "    Matrix([[1]]),\n",
    "    Matrix([[1]]),\n",
    "    Matrix([[1]])]\n",
    "\n",
    "\n",
    "for i in range(3):\n",
    "    K,S,E = control.lqr(A,B,Q_map[i],R_map[i])\n",
    "    x0 = sympy.Matrix([[1],[0]])\n",
    "    t_map = np.arange(0,4.1,0.1)\n",
    "    AA = A-(B*K)\n",
    "    x1 = []\n",
    "    x2 = []\n",
    "    for t in t_map:\n",
    "        res = sympy.exp(AA*t)*x0\n",
    "        x1.append(res[0])\n",
    "        x2.append(res[1])\n",
    "    plt.plot(t_map,x1)\n",
    "    plt.plot(t_map,x2)"
   ]
  },
  {
   "cell_type": "code",
   "execution_count": null,
   "metadata": {},
   "outputs": [],
   "source": []
  }
 ],
 "metadata": {
  "kernelspec": {
   "display_name": "Python 3",
   "language": "python",
   "name": "python3"
  },
  "language_info": {
   "codemirror_mode": {
    "name": "ipython",
    "version": 3
   },
   "file_extension": ".py",
   "mimetype": "text/x-python",
   "name": "python",
   "nbconvert_exporter": "python",
   "pygments_lexer": "ipython3",
   "version": "3.8.3"
  }
 },
 "nbformat": 4,
 "nbformat_minor": 4
}
