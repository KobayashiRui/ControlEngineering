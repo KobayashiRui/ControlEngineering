{
 "cells": [
  {
   "cell_type": "markdown",
   "metadata": {},
   "source": [
    "# 数理最適化"
   ]
  },
  {
   "cell_type": "code",
   "execution_count": 2,
   "metadata": {},
   "outputs": [],
   "source": [
    "import numpy as np\n",
    "import cvxpy\n",
    "from matplotlib import pyplot as plt\n",
    "%matplotlib inline "
   ]
  },
  {
   "cell_type": "code",
   "execution_count": 3,
   "metadata": {},
   "outputs": [
    {
     "name": "stdout",
     "output_type": "stream",
     "text": [
      "\n",
      "The optimal value is 4.999999997381506\n",
      "A solution x is\n",
      "[1. 1.]\n",
      "A dual solution is\n",
      "[0.42857143 0.35714286]\n"
     ]
    }
   ],
   "source": [
    "# Define the Data.\n",
    "A = np.array([[3,2],[2,6]])\n",
    "b = np.array([5,8])\n",
    "c = np.array([2,3])\n",
    "\n",
    "# Define and solve the CVXPY problem.\n",
    "x = cvxpy.Variable(2) #決定変数の次元\n",
    "objective   = cvxpy.Minimize(c.T@x) #目的関数\n",
    "constraints = [A@x >= b, x >= 0]    #制約条件\n",
    "prob = cvxpy.Problem(objective, constraints)\n",
    "prob.solve()\n",
    "\n",
    "# Print result.\n",
    "print(\"\\nThe optimal value is\", prob.value) #最適値\n",
    "print(\"A solution x is\") #最適解\n",
    "print(x.value)\n",
    "print(\"A dual solution is\") #双対問題の最適解\n",
    "print(prob.constraints[0].dual_value)"
   ]
  },
  {
   "cell_type": "code",
   "execution_count": null,
   "metadata": {},
   "outputs": [],
   "source": []
  }
 ],
 "metadata": {
  "kernelspec": {
   "display_name": "Python 3",
   "language": "python",
   "name": "python3"
  },
  "language_info": {
   "codemirror_mode": {
    "name": "ipython",
    "version": 3
   },
   "file_extension": ".py",
   "mimetype": "text/x-python",
   "name": "python",
   "nbconvert_exporter": "python",
   "pygments_lexer": "ipython3",
   "version": "3.8.5"
  }
 },
 "nbformat": 4,
 "nbformat_minor": 4
}
