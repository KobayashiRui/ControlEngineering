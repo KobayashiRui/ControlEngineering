{
 "cells": [
  {
   "cell_type": "markdown",
   "metadata": {},
   "source": [
    "# 現代制御(Modern Control)\n",
    "\n",
    "## 状態空間表現\n",
    "$\n",
    "\\begin{cases}\n",
    "\\dot{x}(t)=Ax(t)+Bu(t) \\\\ \n",
    "y(t)=Cx(t)+Du(t)\n",
    "\\end{cases}\n",
    "$\n",
    "\n",
    "$x(t)$:状態変数ベクトル(状態ベクトル), $u(t)$:入力ベクトル, $y(t)$:出力ベクトル  \n",
    "$A$:システム行列(状態行列), $B$:入力係数行列(入力行\n",
    "列), $C$:出力変数ベクトル(出力行列), $D$:直達行列\n",
    "\n",
    "※直達行列$D$は基本0なので基本的に出力方程式は$y(t)=Cx(t)$\n",
    "\n",
    "状態方程式 = 1階の常微分方程式  \n",
    "→ 行列を用いることで高階の微分方程式も統一した方法で表現可能\n",
    "\n",
    "\n",
    "### 使用するライブラリ\n",
    "[Python Control Systems Library](https://python-control.readthedocs.io/en/0.8.3/)\n",
    "\n",
    "### 参考\n",
    "+ [状態方程式の解](http://ysserve.wakasato.jp/Lecture/ControlMecha2/node15.html)"
   ]
  },
  {
   "cell_type": "code",
   "execution_count": 2,
   "metadata": {
    "scrolled": true
   },
   "outputs": [],
   "source": [
    "from control.matlab import *\n",
    "import sympy\n",
    "from sympy import symbols, Symbol, var, init_printing, integrate\n",
    "init_printing()"
   ]
  },
  {
   "cell_type": "markdown",
   "metadata": {},
   "source": [
    "## 状態遷移行列\n",
    "状態遷移行列は下記の式で表される  \n",
    "$\n",
    "e^{At}\n",
    "$  \n",
    "$A$:状態行列, t:時間\n",
    "\n",
    "ラプラス変換を用いる場合は下記の等式が成立する  \n",
    "$\n",
    "e^{At} = \\mathcal{L}^{-1}[(sI-A)^{-1}]\n",
    "$"
   ]
  },
  {
   "cell_type": "code",
   "execution_count": 57,
   "metadata": {},
   "outputs": [
    {
     "data": {
      "text/latex": [
       "$\\displaystyle \\left[\\begin{matrix}s & -1\\\\5 & s + 6\\end{matrix}\\right]$"
      ],
      "text/plain": [
       "⎡s   -1  ⎤\n",
       "⎢        ⎥\n",
       "⎣5  s + 6⎦"
      ]
     },
     "metadata": {},
     "output_type": "display_data"
    },
    {
     "data": {
      "text/latex": [
       "$\\displaystyle \\left[\\begin{matrix}\\frac{- 5 s - 30}{- 5 s \\left(s + 6\\right) - 25} & - \\frac{5}{- 5 s \\left(s + 6\\right) - 25}\\\\\\frac{5}{- s \\left(s + 6\\right) - 5} & - \\frac{s}{- s \\left(s + 6\\right) - 5}\\end{matrix}\\right]$"
      ],
      "text/plain": [
       "⎡    -5⋅s - 30             -5        ⎤\n",
       "⎢─────────────────  ─────────────────⎥\n",
       "⎢-5⋅s⋅(s + 6) - 25  -5⋅s⋅(s + 6) - 25⎥\n",
       "⎢                                    ⎥\n",
       "⎢       5                 -s         ⎥\n",
       "⎢ ──────────────     ──────────────  ⎥\n",
       "⎣ -s⋅(s + 6) - 5     -s⋅(s + 6) - 5  ⎦"
      ]
     },
     "metadata": {},
     "output_type": "display_data"
    },
    {
     "data": {
      "text/latex": [
       "$\\displaystyle \\left[\\begin{matrix}- \\frac{1}{4 \\left(s + 5\\right)} + \\frac{5}{4 \\left(s + 1\\right)} & - \\frac{1}{4 \\left(s + 5\\right)} + \\frac{1}{4 \\left(s + 1\\right)}\\\\\\frac{5}{4 \\left(s + 5\\right)} - \\frac{5}{4 \\left(s + 1\\right)} & \\frac{5}{4 \\left(s + 5\\right)} - \\frac{1}{4 \\left(s + 1\\right)}\\end{matrix}\\right]$"
      ],
      "text/plain": [
       "⎡      1           5            1           1    ⎤\n",
       "⎢- ───────── + ─────────  - ───────── + ─────────⎥\n",
       "⎢  4⋅(s + 5)   4⋅(s + 1)    4⋅(s + 5)   4⋅(s + 1)⎥\n",
       "⎢                                                ⎥\n",
       "⎢     5           5            5           1     ⎥\n",
       "⎢ ───────── - ─────────    ───────── - ───────── ⎥\n",
       "⎣ 4⋅(s + 5)   4⋅(s + 1)    4⋅(s + 5)   4⋅(s + 1) ⎦"
      ]
     },
     "metadata": {},
     "output_type": "display_data"
    },
    {
     "data": {
      "text/latex": [
       "$\\displaystyle \\left[\\begin{matrix}\\frac{5 e^{- t}}{4} - \\frac{e^{- 5 t}}{4} & \\frac{e^{- t}}{4} - \\frac{e^{- 5 t}}{4}\\\\- \\frac{5 e^{- t}}{4} + \\frac{5 e^{- 5 t}}{4} & - \\frac{e^{- t}}{4} + \\frac{5 e^{- 5 t}}{4}\\end{matrix}\\right]$"
      ],
      "text/plain": [
       "⎡     -t    -5⋅t       -t    -5⋅t  ⎤\n",
       "⎢  5⋅ℯ     ℯ          ℯ     ℯ      ⎥\n",
       "⎢  ───── - ─────      ─── - ─────  ⎥\n",
       "⎢    4       4         4      4    ⎥\n",
       "⎢                                  ⎥\n",
       "⎢     -t      -5⋅t     -t      -5⋅t⎥\n",
       "⎢  5⋅ℯ     5⋅ℯ        ℯ     5⋅ℯ    ⎥\n",
       "⎢- ───── + ───────  - ─── + ───────⎥\n",
       "⎣    4        4        4       4   ⎦"
      ]
     },
     "execution_count": 57,
     "metadata": {},
     "output_type": "execute_result"
    }
   ],
   "source": [
    "A = sympy.Matrix([[0, 1], [-5, -6]])\n",
    "s = sympy.var('s')\n",
    "I = sympy.eye(2)\n",
    "result1 = (s*I - A)\n",
    "display(result1)\n",
    "display(result1.inv())\n",
    "display(sympy.apart(result1.inv()))\n",
    "t = sympy.var('t')\n",
    "sympy.exp(A*t)"
   ]
  },
  {
   "cell_type": "markdown",
   "metadata": {},
   "source": [
    "## 状態方程式の一般解\n",
    "$\n",
    "x(t) = e^{At}x_0 + \\int_0^t e^{A(t-\\tau)}Bu(\\tau)d\\tau\n",
    "$\n",
    "### n次システムの時間応答(任意の入力$u(t)$,任意の初期値$x_0$)\n",
    "$\n",
    "x(t) = e^{At}x_0 + \\int_0^t e^{A(t-\\tau)}Bu(\\tau)d\\tau\n",
    "$"
   ]
  },
  {
   "cell_type": "code",
   "execution_count": 64,
   "metadata": {},
   "outputs": [
    {
     "data": {
      "text/latex": [
       "$\\displaystyle \\left[\\begin{matrix}\\frac{5 e^{- t}}{2} - \\frac{e^{- 5 t}}{2}\\\\- \\frac{5 e^{- t}}{2} + \\frac{5 e^{- 5 t}}{2}\\end{matrix}\\right]$"
      ],
      "text/plain": [
       "⎡     -t    -5⋅t  ⎤\n",
       "⎢  5⋅ℯ     ℯ      ⎥\n",
       "⎢  ───── - ─────  ⎥\n",
       "⎢    2       2    ⎥\n",
       "⎢                 ⎥\n",
       "⎢     -t      -5⋅t⎥\n",
       "⎢  5⋅ℯ     5⋅ℯ    ⎥\n",
       "⎢- ───── + ───────⎥\n",
       "⎣    2        2   ⎦"
      ]
     },
     "metadata": {},
     "output_type": "display_data"
    },
    {
     "data": {
      "text/latex": [
       "$\\displaystyle \\left[\\begin{matrix}\\frac{e^{- t}}{4} - \\frac{e^{- 5 t}}{4}\\\\- \\frac{e^{- t}}{4} + \\frac{5 e^{- 5 t}}{4}\\end{matrix}\\right]$"
      ],
      "text/plain": [
       "⎡   -t    -5⋅t  ⎤\n",
       "⎢  ℯ     ℯ      ⎥\n",
       "⎢  ─── - ─────  ⎥\n",
       "⎢   4      4    ⎥\n",
       "⎢               ⎥\n",
       "⎢   -t      -5⋅t⎥\n",
       "⎢  ℯ     5⋅ℯ    ⎥\n",
       "⎢- ─── + ───────⎥\n",
       "⎣   4       4   ⎦"
      ]
     },
     "metadata": {},
     "output_type": "display_data"
    },
    {
     "data": {
      "text/latex": [
       "$\\displaystyle \\left[\\begin{matrix}\\frac{5 \\left(- T + t\\right) e^{T - t}}{4 \\left(- 5 T + 5 t\\right)} - \\frac{5 \\left(- T + t\\right) e^{5 T - 5 t}}{4 \\left(- 5 T + 5 t\\right)}\\\\\\frac{5 e^{5 T - 5 t}}{4} - \\frac{5 \\left(- T + t\\right) e^{T - t}}{4 \\left(- 5 T + 5 t\\right)}\\end{matrix}\\right]$"
      ],
      "text/plain": [
       "⎡            T - t               5⋅T - 5⋅t⎤\n",
       "⎢5⋅(-T + t)⋅ℯ        5⋅(-T + t)⋅ℯ         ⎥\n",
       "⎢───────────────── - ─────────────────────⎥\n",
       "⎢  4⋅(-5⋅T + 5⋅t)        4⋅(-5⋅T + 5⋅t)   ⎥\n",
       "⎢                                         ⎥\n",
       "⎢       5⋅T - 5⋅t               T - t     ⎥\n",
       "⎢    5⋅ℯ            5⋅(-T + t)⋅ℯ          ⎥\n",
       "⎢    ──────────── - ─────────────────     ⎥\n",
       "⎣         4           4⋅(-5⋅T + 5⋅t)      ⎦"
      ]
     },
     "metadata": {},
     "output_type": "display_data"
    },
    {
     "data": {
      "text/latex": [
       "$\\displaystyle \\left[\\begin{matrix}\\frac{1}{5} - \\frac{e^{- t}}{4} + \\frac{e^{- 5 t}}{20}\\\\\\frac{e^{- t}}{4} - \\frac{e^{- 5 t}}{4}\\end{matrix}\\right]$"
      ],
      "text/plain": [
       "⎡     -t    -5⋅t⎤\n",
       "⎢1   ℯ     ℯ    ⎥\n",
       "⎢─ - ─── + ─────⎥\n",
       "⎢5    4      20 ⎥\n",
       "⎢               ⎥\n",
       "⎢   -t    -5⋅t  ⎥\n",
       "⎢  ℯ     ℯ      ⎥\n",
       "⎢  ─── - ─────  ⎥\n",
       "⎣   4      4    ⎦"
      ]
     },
     "metadata": {},
     "output_type": "display_data"
    },
    {
     "data": {
      "text/latex": [
       "$\\displaystyle \\left[\\begin{matrix}\\frac{1}{5} + \\frac{9 e^{- t}}{4} - \\frac{9 e^{- 5 t}}{20}\\\\- \\frac{9 e^{- t}}{4} + \\frac{9 e^{- 5 t}}{4}\\end{matrix}\\right]$"
      ],
      "text/plain": [
       "⎡       -t      -5⋅t⎤\n",
       "⎢1   9⋅ℯ     9⋅ℯ    ⎥\n",
       "⎢─ + ───── - ───────⎥\n",
       "⎢5     4        20  ⎥\n",
       "⎢                   ⎥\n",
       "⎢      -t      -5⋅t ⎥\n",
       "⎢   9⋅ℯ     9⋅ℯ     ⎥\n",
       "⎢ - ───── + ─────── ⎥\n",
       "⎣     4        4    ⎦"
      ]
     },
     "metadata": {},
     "output_type": "display_data"
    }
   ],
   "source": [
    "A = sympy.Matrix([[0, 1], [-5, -6]])\n",
    "B = sympy.Matrix([0,1])\n",
    "x0 = sympy.Matrix([2,0])\n",
    "sympy.var('T')\n",
    "t = sympy.var('t')\n",
    "eat = sympy.exp(A*t)\n",
    "eat_int = sympy.exp(A*(t-T))\n",
    "result1 = eat*x0\n",
    "display(result1)\n",
    "display(eat*B)\n",
    "display(eat_int*B)\n",
    "result2 = integrate(eat_int*B, (T,0,t))\n",
    "display(result2)\n",
    "display(result1 + result2)"
   ]
  },
  {
   "cell_type": "markdown",
   "metadata": {},
   "source": [
    "## 安定判別\n",
    "A(状態行列)の固有値の実部が全て負の場合→漸近安定=発散しないで収束する\n",
    "\n",
    "[代数的重複度と幾何学的重複度について](http://www.akita-pu.ac.jp/system/elect/ins/kusakari/japanese/teaching/Old/LinearAlgebra/2005/note/10/Slide65.html)\n",
    "\n",
    "## sympyによる固有値及び固有ベクトル\n",
    "\n",
    "### eigenvals()の結果の意味\n",
    "$\n",
    "\\{-2:1, 3:1, 5:2\\}\n",
    "$\n",
    "\n",
    "→ 固有値は-2,3,5  \n",
    "→ 固有値の隣の`:1`や`:2`は代数的重複度(重複の数)  \n",
    "↓  \n",
    "`{固有値:代数的重複度, }`\n",
    "\n",
    "### eigenvects()の結果の意味  \n",
    "$\n",
    "\\begin{bmatrix}\n",
    "\\begin{pmatrix}\n",
    "5, &\n",
    "2, &\n",
    "\\begin{bmatrix}\n",
    "    \\begin{bmatrix} 1 \\\\ 1 \\\\ 1 \\\\ 0 \\end{bmatrix}, \n",
    "    \\begin{bmatrix} 0 \\\\ -1 \\\\ 0 \\\\ 1 \\end{bmatrix}  \n",
    "\\end{bmatrix}\n",
    "\\end{pmatrix}\n",
    "\\end{bmatrix}\n",
    "$\n",
    "\n",
    "→ 固有値は5  \n",
    "→ 固有値の隣2は幾何学的重複度  \n",
    "→ 一番右が固有ベクトル  \n",
    "↓  \n",
    "`{(固有値, 幾何学的重複度, 固有ベクトル),}`  \n",
    "`(eigenvalue:algebraic multiplicity, [eigenvectors])`"
   ]
  },
  {
   "cell_type": "code",
   "execution_count": 51,
   "metadata": {
    "scrolled": true
   },
   "outputs": [
    {
     "data": {
      "image/png": "[encoded data removed]",
      "text/latex": [
       "$\\displaystyle \\left\\{ -5 : 1, \\  -1 : 1\\right\\}$"
      ],
      "text/plain": [
       "{-5: 1, -1: 1}"
      ]
     },
     "metadata": {},
     "output_type": "display_data"
    },
    {
     "data": {
      "text/latex": [
       "$\\displaystyle \\left[ \\left( -5, \\  1, \\  \\left[ \\left[\\begin{matrix}- \\frac{1}{5}\\\\1\\end{matrix}\\right]\\right]\\right), \\  \\left( -1, \\  1, \\  \\left[ \\left[\\begin{matrix}-1\\\\1\\end{matrix}\\right]\\right]\\right)\\right]$"
      ],
      "text/plain": [
       "⎡⎛       ⎡⎡-1/5⎤⎤⎞  ⎛       ⎡⎡-1⎤⎤⎞⎤\n",
       "⎢⎜-5, 1, ⎢⎢    ⎥⎥⎟, ⎜-1, 1, ⎢⎢  ⎥⎥⎟⎥\n",
       "⎣⎝       ⎣⎣ 1  ⎦⎦⎠  ⎝       ⎣⎣1 ⎦⎦⎠⎦"
      ]
     },
     "metadata": {},
     "output_type": "display_data"
    }
   ],
   "source": [
    "A = sympy.Matrix([[0, 1], [-5, -6]])\n",
    "t = sympy.var('t')\n",
    "result = A.eigenvals()\n",
    "result2 = A.eigenvects()\n",
    "display(result)\n",
    "display(result2)"
   ]
  },
  {
   "cell_type": "markdown",
   "metadata": {},
   "source": [
    "### 時間応答シミュレーション"
   ]
  },
  {
   "cell_type": "code",
   "execution_count": 24,
   "metadata": {},
   "outputs": [
    {
     "name": "stdout",
     "output_type": "stream",
     "text": [
      "A = [[ 0.  1.]\n",
      " [-5. -6.]]\n",
      "\n",
      "B = [[0.]\n",
      " [1.]]\n",
      "\n",
      "C = [[1. 0.]]\n",
      "\n",
      "D = [[0.]]\n",
      "\n"
     ]
    },
    {
     "data": {
      "text/plain": [
       "(array([2.        , 1.98041274, 1.93140293, 1.8641393 , 1.78630026,\n",
       "        1.7031245 , 1.61814802, 1.5337209 , 1.45136956, 1.37205047,\n",
       "        1.29632777, 1.22449747, 1.15667408, 1.09285108, 1.03294286,\n",
       "        0.97681386, 0.92429851, 0.87521507, 0.82937482, 0.78658839,\n",
       "        0.74666979, 0.70943901, 0.67472367, 0.64235983, 0.61219243,\n",
       "        0.58407536, 0.55787136, 0.53345171, 0.51069595, 0.48949141,\n",
       "        0.46973286, 0.45132205, 0.43416729, 0.41818307, 0.40328964,\n",
       "        0.38941265, 0.37648279, 0.36443546, 0.35321046, 0.34275166,\n",
       "        0.3330068 , 0.32392713, 0.31546727, 0.30758491, 0.30024063,\n",
       "        0.2933977 , 0.2870219 , 0.28108134, 0.27554631, 0.27038913,\n",
       "        0.265584  , 0.2611069 , 0.25693543, 0.25304872, 0.24942734,\n",
       "        0.24605317, 0.24290934, 0.23998012, 0.23725087, 0.23470793,\n",
       "        0.23233859, 0.23013099, 0.22807409, 0.22615761, 0.22437195,\n",
       "        0.2227082 , 0.22115802, 0.21971366, 0.2183679 , 0.21711401,\n",
       "        0.21594572, 0.21485718, 0.21384295, 0.21289796, 0.21201748,\n",
       "        0.2111971 , 0.21043273, 0.20972054, 0.20905696, 0.20843869,\n",
       "        0.20786262, 0.20732588, 0.20682577, 0.20635981, 0.20592566,\n",
       "        0.20552114, 0.20514424, 0.20479307, 0.20446587, 0.204161  ,\n",
       "        0.20387695, 0.20361229, 0.2033657 , 0.20313594, 0.20292186,\n",
       "        0.2027224 , 0.20253655, 0.2023634 , 0.20220206, 0.20205173]),\n",
       " array([0.        , 0.07070707, 0.14141414, 0.21212121, 0.28282828,\n",
       "        0.35353535, 0.42424242, 0.49494949, 0.56565657, 0.63636364,\n",
       "        0.70707071, 0.77777778, 0.84848485, 0.91919192, 0.98989899,\n",
       "        1.06060606, 1.13131313, 1.2020202 , 1.27272727, 1.34343434,\n",
       "        1.41414141, 1.48484848, 1.55555556, 1.62626263, 1.6969697 ,\n",
       "        1.76767677, 1.83838384, 1.90909091, 1.97979798, 2.05050505,\n",
       "        2.12121212, 2.19191919, 2.26262626, 2.33333333, 2.4040404 ,\n",
       "        2.47474747, 2.54545455, 2.61616162, 2.68686869, 2.75757576,\n",
       "        2.82828283, 2.8989899 , 2.96969697, 3.04040404, 3.11111111,\n",
       "        3.18181818, 3.25252525, 3.32323232, 3.39393939, 3.46464646,\n",
       "        3.53535354, 3.60606061, 3.67676768, 3.74747475, 3.81818182,\n",
       "        3.88888889, 3.95959596, 4.03030303, 4.1010101 , 4.17171717,\n",
       "        4.24242424, 4.31313131, 4.38383838, 4.45454545, 4.52525253,\n",
       "        4.5959596 , 4.66666667, 4.73737374, 4.80808081, 4.87878788,\n",
       "        4.94949495, 5.02020202, 5.09090909, 5.16161616, 5.23232323,\n",
       "        5.3030303 , 5.37373737, 5.44444444, 5.51515152, 5.58585859,\n",
       "        5.65656566, 5.72727273, 5.7979798 , 5.86868687, 5.93939394,\n",
       "        6.01010101, 6.08080808, 6.15151515, 6.22222222, 6.29292929,\n",
       "        6.36363636, 6.43434343, 6.50505051, 6.57575758, 6.64646465,\n",
       "        6.71717172, 6.78787879, 6.85858586, 6.92929293, 7.        ]))"
      ]
     },
     "execution_count": 24,
     "metadata": {},
     "output_type": "execute_result"
    }
   ],
   "source": [
    "A = \"0 1;-5 -6\"\n",
    "B = \"0;1\"\n",
    "C = \"1 0\"\n",
    "D = \"0\"\n",
    "sys = ss(A,B,C,D)\n",
    "print(sys)\n",
    "step(sys,X0=[2,0],input=1)"
   ]
  },
  {
   "cell_type": "markdown",
   "metadata": {},
   "source": [
    "## 可制御性\n",
    "可制御性行列(可制御行列)\n",
    "\n",
    "$\n",
    "V_c = \\begin{bmatrix}B & AB & \\ldots & A^{n-1}B \\end{bmatrix}\n",
    "$"
   ]
  },
  {
   "cell_type": "code",
   "execution_count": null,
   "metadata": {},
   "outputs": [],
   "source": []
  },
  {
   "cell_type": "markdown",
   "metadata": {},
   "source": [
    "## 可観測性\n",
    "可観測生行列(可観測行列)\n",
    "\n",
    "$\n",
    "V_o =\\begin{bmatrix}C \\\\CA \\\\\\vdots\\\\CA^{n-1}\\end{bmatrix}\n",
    "$"
   ]
  },
  {
   "cell_type": "markdown",
   "metadata": {},
   "source": [
    "## 座標変換\n",
    "$\n",
    "\\dot{x}(t)=Ax(t)+Bu(t) \\\\ \n",
    "y(t)=Cx(t)\n",
    "$\n",
    "## 対角正準形\n",
    "行列Aの固有値を$\\lambda_1,\\lambda_2,\\ldots, \\lambda_n $,  \n",
    "対応する固有ベクトルを$v_1, v_2, \\ldots, v_n$  \n",
    "固有値は全て相異とする  \n",
    "このとき座標変換行列として\n",
    "\n",
    "$T = \\begin{bmatrix} v_1 & v_2 & \\cdots & v_n \\end{bmatrix}$"
   ]
  },
  {
   "cell_type": "code",
   "execution_count": 20,
   "metadata": {},
   "outputs": [
    {
     "data": {
      "text/latex": [
       "$\\displaystyle \\left[\\begin{matrix}0 & 1\\\\-5 & -6\\end{matrix}\\right]$"
      ],
      "text/plain": [
       "⎡0   1 ⎤\n",
       "⎢      ⎥\n",
       "⎣-5  -6⎦"
      ]
     },
     "metadata": {},
     "output_type": "display_data"
    },
    {
     "data": {
      "text/latex": [
       "$\\displaystyle \\left[\\begin{matrix}0\\\\1\\end{matrix}\\right]$"
      ],
      "text/plain": [
       "⎡0⎤\n",
       "⎢ ⎥\n",
       "⎣1⎦"
      ]
     },
     "metadata": {},
     "output_type": "display_data"
    },
    {
     "data": {
      "text/latex": [
       "$\\displaystyle \\left[\\begin{matrix}0 & 1\\end{matrix}\\right]$"
      ],
      "text/plain": [
       "[0  1]"
      ]
     },
     "metadata": {},
     "output_type": "display_data"
    },
    {
     "data": {
      "text/plain": [
       "'固有ベクトル'"
      ]
     },
     "metadata": {},
     "output_type": "display_data"
    },
    {
     "data": {
      "text/latex": [
       "$\\displaystyle \\left[ \\left( -5, \\  1, \\  \\left[ \\left[\\begin{matrix}- \\frac{1}{5}\\\\1\\end{matrix}\\right]\\right]\\right), \\  \\left( -1, \\  1, \\  \\left[ \\left[\\begin{matrix}-1\\\\1\\end{matrix}\\right]\\right]\\right)\\right]$"
      ],
      "text/plain": [
       "⎡⎛       ⎡⎡-1/5⎤⎤⎞  ⎛       ⎡⎡-1⎤⎤⎞⎤\n",
       "⎢⎜-5, 1, ⎢⎢    ⎥⎥⎟, ⎜-1, 1, ⎢⎢  ⎥⎥⎟⎥\n",
       "⎣⎝       ⎣⎣ 1  ⎦⎦⎠  ⎝       ⎣⎣1 ⎦⎦⎠⎦"
      ]
     },
     "metadata": {},
     "output_type": "display_data"
    },
    {
     "data": {
      "text/plain": [
       "'変換行列'"
      ]
     },
     "metadata": {},
     "output_type": "display_data"
    },
    {
     "data": {
      "text/latex": [
       "$\\displaystyle \\left[\\begin{matrix}-1 & -1\\\\5 & 1\\end{matrix}\\right]$"
      ],
      "text/plain": [
       "⎡-1  -1⎤\n",
       "⎢      ⎥\n",
       "⎣5   1 ⎦"
      ]
     },
     "metadata": {},
     "output_type": "display_data"
    },
    {
     "data": {
      "text/plain": [
       "'対角行列'"
      ]
     },
     "metadata": {},
     "output_type": "display_data"
    },
    {
     "data": {
      "text/latex": [
       "$\\displaystyle \\left[\\begin{matrix}-5 & 0\\\\0 & -1\\end{matrix}\\right]$"
      ],
      "text/plain": [
       "⎡-5  0 ⎤\n",
       "⎢      ⎥\n",
       "⎣0   -1⎦"
      ]
     },
     "metadata": {},
     "output_type": "display_data"
    },
    {
     "data": {
      "text/plain": [
       "\"A'\""
      ]
     },
     "metadata": {},
     "output_type": "display_data"
    },
    {
     "data": {
      "text/latex": [
       "$\\displaystyle \\left[\\begin{matrix}-5 & 0\\\\0 & -1\\end{matrix}\\right]$"
      ],
      "text/plain": [
       "⎡-5  0 ⎤\n",
       "⎢      ⎥\n",
       "⎣0   -1⎦"
      ]
     },
     "metadata": {},
     "output_type": "display_data"
    },
    {
     "data": {
      "text/plain": [
       "\"B'\""
      ]
     },
     "metadata": {},
     "output_type": "display_data"
    },
    {
     "data": {
      "text/latex": [
       "$\\displaystyle \\left[\\begin{matrix}\\frac{1}{4}\\\\- \\frac{1}{4}\\end{matrix}\\right]$"
      ],
      "text/plain": [
       "⎡1/4 ⎤\n",
       "⎢    ⎥\n",
       "⎣-1/4⎦"
      ]
     },
     "metadata": {},
     "output_type": "display_data"
    },
    {
     "data": {
      "text/plain": [
       "\"C'\""
      ]
     },
     "metadata": {},
     "output_type": "display_data"
    },
    {
     "data": {
      "text/latex": [
       "$\\displaystyle \\left[\\begin{matrix}5 & 1\\end{matrix}\\right]$"
      ],
      "text/plain": [
       "[5  1]"
      ]
     },
     "metadata": {},
     "output_type": "display_data"
    }
   ],
   "source": [
    "A = sympy.Matrix([[0,1],[-5,-6]])\n",
    "B = sympy.Matrix([[0],[1]])\n",
    "C = sympy.Matrix([[0,1]])\n",
    "display(A,B,C)\n",
    "result = A.eigenvects()\n",
    "display(\"固有ベクトル\",result)\n",
    "#対角化\n",
    "P,D = A.diagonalize() #P:変換行列, D:対角化後のA行列\n",
    "display(\"変換行列\",P, \"対角行列\",D)\n",
    "A_dash = (P**-1) * A * (P)\n",
    "B_dash = (P**-1) * B\n",
    "C_dash = C * P\n",
    "display(\"A'\",A_dash,\"B'\",B_dash, \"C'\",C_dash)"
   ]
  },
  {
   "cell_type": "code",
   "execution_count": null,
   "metadata": {},
   "outputs": [],
   "source": []
  }
 ],
 "metadata": {
  "kernelspec": {
   "display_name": "Python 3",
   "language": "python",
   "name": "python3"
  },
  "language_info": {
   "codemirror_mode": {
    "name": "ipython",
    "version": 3
   },
   "file_extension": ".py",
   "mimetype": "text/x-python",
   "name": "python",
   "nbconvert_exporter": "python",
   "pygments_lexer": "ipython3",
   "version": "3.7.6"
  }
 },
 "nbformat": 4,
 "nbformat_minor": 4
}
