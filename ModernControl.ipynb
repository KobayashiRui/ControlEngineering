{
 "cells": [
  {
   "cell_type": "markdown",
   "metadata": {},
   "source": [
    "# 現代制御(Modern Control)\n",
    "\n",
    "## 状態空間表現\n",
    "$\n",
    "\\begin{cases}\n",
    "\\dot{x}(t)=Ax(t)+Bu(t) : 状態方程式\\\\ \n",
    "y(t)=Cx(t)+Du(t) : 出力方程式\n",
    "\\end{cases}\n",
    "$\n",
    "\n",
    "$x(t)$:状態変数ベクトル(状態ベクトル), $u(t)$:入力ベクトル, $y(t)$:出力ベクトル  \n",
    "$A$:システム行列(状態行列), $B$:入力係数行列(入力行列), $C$:出力変数ベクトル(出力行列), $D$:直達行列\n",
    "\n",
    "## 状態遷移行列\n"
   ]
  },
  {
   "cell_type": "code",
   "execution_count": null,
   "metadata": {},
   "outputs": [],
   "source": []
  }
 ],
 "metadata": {
  "kernelspec": {
   "display_name": "Python 3",
   "language": "python",
   "name": "python3"
  },
  "language_info": {
   "codemirror_mode": {
    "name": "ipython",
    "version": 3
   },
   "file_extension": ".py",
   "mimetype": "text/x-python",
   "name": "python",
   "nbconvert_exporter": "python",
   "pygments_lexer": "ipython3",
   "version": "3.6.9"
  }
 },
 "nbformat": 4,
 "nbformat_minor": 4
}
