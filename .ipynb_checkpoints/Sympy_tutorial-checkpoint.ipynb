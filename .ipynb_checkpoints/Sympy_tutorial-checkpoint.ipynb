{
 "cells": [
  {
   "cell_type": "markdown",
   "metadata": {},
   "source": [
    "# Sympyの基本的な使い方\n",
    "## 参考\n",
    "+ https://docs.sympy.org/latest/modules/index.html\n",
    "+ https://python.atelierkobato.com/dsolve/"
   ]
  },
  {
   "cell_type": "code",
   "execution_count": 2,
   "metadata": {},
   "outputs": [],
   "source": [
    "from sympy import symbols, Symbol, var, init_printing\n",
    "init_printing()"
   ]
  },
  {
   "cell_type": "markdown",
   "metadata": {},
   "source": [
    "## 代数変数の定義\n",
    "代数を定義する方法は複数存在する  \n",
    "(`from sympy import *`をしている前提)\n",
    "\n",
    "代数`x`の定義\n",
    "1. `x = Symbol('x')`\n",
    "2. `x = symbols('x')`\n",
    "3. `var('x')`\n",
    "\n",
    "### 複数代数の一括定義\n",
    "代数を複数定義する場合はいっぺんに定義したほうが楽\n",
    "\n",
    "代数`x`と`y`の定義\n",
    "1. `x,y = symbols('x y')`\n",
    "2. `var('x y')`\n",
    "\n",
    "`symbols`と`var`の引数の形式は同じ\n",
    "\n"
   ]
  },
  {
   "cell_type": "code",
   "execution_count": 3,
   "metadata": {},
   "outputs": [
    {
     "data": {
      "image/png": "[encoded data removed]",
      "text/latex": [
       "$\\displaystyle A$"
      ],
      "text/plain": [
       "A"
      ]
     },
     "execution_count": 3,
     "metadata": {},
     "output_type": "execute_result"
    }
   ],
   "source": [
    "A = Symbol('A')\n",
    "A"
   ]
  },
  {
   "cell_type": "code",
   "execution_count": 5,
   "metadata": {},
   "outputs": [
    {
     "data": {
      "image/png": "[encoded data removed]",
      "text/latex": [
       "$\\displaystyle \\left( x, \\  y\\right)$"
      ],
      "text/plain": [
       "(x, y)"
      ]
     },
     "execution_count": 5,
     "metadata": {},
     "output_type": "execute_result"
    }
   ],
   "source": [
    "x,y=symbols('x y')\n",
    "(x,y)"
   ]
  },
  {
   "cell_type": "code",
   "execution_count": 6,
   "metadata": {},
   "outputs": [
    {
     "data": {
      "image/png": "[encoded data removed]",
      "text/latex": [
       "$\\displaystyle \\left( a, \\  b\\right)$"
      ],
      "text/plain": [
       "(a, b)"
      ]
     },
     "execution_count": 6,
     "metadata": {},
     "output_type": "execute_result"
    }
   ],
   "source": [
    "var('a b')\n",
    "(a,b)"
   ]
  },
  {
   "cell_type": "markdown",
   "metadata": {},
   "source": [
    "##  常微分方程式\n"
   ]
  },
  {
   "cell_type": "markdown",
   "metadata": {},
   "source": [
    "pythonファイルによる実行方法\n",
    "```\n",
    "# モジュールをインポート\n",
    "import sympy\n",
    "from sympy import *\n",
    "\n",
    "# 数式を MathJax で表示するように設定\n",
    "#sympy.init_printing()\n",
    "\n",
    "# 記号x,yを定義\n",
    "x = sympy.symbols('x')\n",
    "y = sympy.Function('y')\n",
    "\n",
    "\n",
    "# y'-y=0\n",
    "eq_1 = sympy.Eq(y(x).diff(x) - y(x),0)\n",
    "print(sympy.latex(eq_1))\n",
    "\n",
    "#print(classify_ode(eq_1))\n",
    "eq_result = dsolve(eq_1)\n",
    "\n",
    "print(sympy.latex(eq_result))\n",
    "\n",
    "\n",
    "#- x \\left(1 - y{\\left(x \\right)}\\right) + \\frac{d}{d x} y{\\left(x \\right)} = 0\n",
    "# 微分方程式を分類\n",
    "#sympy.solvers.ode.classify_ode(eq_1)\n",
    "\n",
    "#sympy.solvers.ode.classify_ode(eq_1)\n",
    "```"
   ]
  },
  {
   "cell_type": "code",
   "execution_count": null,
   "metadata": {},
   "outputs": [],
   "source": []
  }
 ],
 "metadata": {
  "kernelspec": {
   "display_name": "Python 3",
   "language": "python",
   "name": "python3"
  },
  "language_info": {
   "codemirror_mode": {
    "name": "ipython",
    "version": 3
   },
   "file_extension": ".py",
   "mimetype": "text/x-python",
   "name": "python",
   "nbconvert_exporter": "python",
   "pygments_lexer": "ipython3",
   "version": "3.7.6"
  }
 },
 "nbformat": 4,
 "nbformat_minor": 4
}
